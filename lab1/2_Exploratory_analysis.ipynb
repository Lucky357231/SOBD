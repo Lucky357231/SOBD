{
 "cells": [
  {
   "cell_type": "markdown",
   "metadata": {},
   "source": [
    "## Лабораторная работа № 1 \n",
    "## Выполнение разведочного анализа больших данных с использованием фреймворка Apache Spark"
   ]
  },
  {
   "cell_type": "markdown",
   "metadata": {},
   "source": [
    "### Часть 2\n",
    "\n",
    "В данной части работы рассмотрены:\n",
    "* разведочный анализ данных;\n",
    "* работа с Dataframe API фреймворка `Apache Spark`.\n",
    "\n",
    "Подключаем необходимые библиотеки."
   ]
  },
  {
   "cell_type": "code",
   "execution_count": 61,
   "metadata": {},
   "outputs": [],
   "source": [
    "import os\n",
    "from pyspark.sql import SparkSession, DataFrame\n",
    "from pyspark import SparkConf\n",
    "from pyspark.sql.functions import (\n",
    "    col, lit, sum, mean, when,\n",
    "    explode, count, desc, floor,\n",
    "    corr, array_contains, lit, first, to_timestamp \n",
    ")\n",
    "import pandas as pd\n",
    "import seaborn as sns\n",
    "import matplotlib.pyplot as plt"
   ]
  },
  {
   "cell_type": "markdown",
   "metadata": {},
   "source": [
    "Сформируем объект конфигурации для `Apache Spark`, указав необходимые параметры."
   ]
  },
  {
   "cell_type": "code",
   "execution_count": 62,
   "metadata": {},
   "outputs": [],
   "source": [
    "def create_spark_configuration() -> SparkConf:\n",
    "    \"\"\"\n",
    "    Создает и конфигурирует экземпляр SparkConf для приложения Spark.\n",
    "\n",
    "    Returns:\n",
    "        SparkConf: Настроенный экземпляр SparkConf.\n",
    "    \"\"\"\n",
    "    # Получаем имя пользователя\n",
    "    user_name = os.getenv(\"USER\")\n",
    "    \n",
    "    conf = SparkConf()\n",
    "    conf.setAppName(\"lab 1 Test\")\n",
    "    conf.setMaster(\"yarn\")\n",
    "    conf.set(\"spark.submit.deployMode\", \"client\")\n",
    "    conf.set(\"spark.executor.memory\", \"12g\")\n",
    "    conf.set(\"spark.executor.cores\", \"8\")\n",
    "    conf.set(\"spark.executor.instances\", \"2\")\n",
    "    conf.set(\"spark.driver.memory\", \"4g\")\n",
    "    conf.set(\"spark.driver.cores\", \"2\")\n",
    "    conf.set(\"spark.jars.packages\", \"org.apache.iceberg:iceberg-spark-runtime-3.5_2.12:1.6.0\")\n",
    "    conf.set(\"spark.sql.extensions\", \"org.apache.iceberg.spark.extensions.IcebergSparkSessionExtensions\")\n",
    "    conf.set(\"spark.sql.catalog.spark_catalog\", \"org.apache.iceberg.spark.SparkCatalog\")\n",
    "    conf.set(\"spark.sql.catalog.spark_catalog.type\", \"hadoop\")\n",
    "    conf.set(\"spark.sql.catalog.spark_catalog.warehouse\", f\"hdfs:///user/{user_name}/warehouse\")\n",
    "    conf.set(\"spark.sql.catalog.spark_catalog.io-impl\", \"org.apache.iceberg.hadoop.HadoopFileIO\")\n",
    "\n",
    "    return conf"
   ]
  },
  {
   "cell_type": "markdown",
   "metadata": {},
   "source": [
    "Создаём сам объект конфигурации."
   ]
  },
  {
   "cell_type": "code",
   "execution_count": 63,
   "metadata": {},
   "outputs": [],
   "source": [
    "conf = create_spark_configuration()"
   ]
  },
  {
   "cell_type": "markdown",
   "metadata": {},
   "source": [
    "Создаём и выводим на экран сессию `Apache Spark`. В процессе создания сессии происходит подключение к кластеру `Apache Hadoop`, что может занять некоторое время."
   ]
  },
  {
   "cell_type": "code",
   "execution_count": 64,
   "metadata": {},
   "outputs": [
    {
     "name": "stderr",
     "output_type": "stream",
     "text": [
      "24/12/07 04:22:07 WARN SparkSession: Using an existing Spark session; only runtime SQL configurations will take effect.\n"
     ]
    },
    {
     "data": {
      "text/html": [
       "\n",
       "            <div>\n",
       "                <p><b>SparkSession - in-memory</b></p>\n",
       "                \n",
       "        <div>\n",
       "            <p><b>SparkContext</b></p>\n",
       "\n",
       "            <p><a href=\"http://node32.cluster:4040\">Spark UI</a></p>\n",
       "\n",
       "            <dl>\n",
       "              <dt>Version</dt>\n",
       "                <dd><code>v3.5.2</code></dd>\n",
       "              <dt>Master</dt>\n",
       "                <dd><code>yarn</code></dd>\n",
       "              <dt>AppName</dt>\n",
       "                <dd><code>lab 1 Test</code></dd>\n",
       "            </dl>\n",
       "        </div>\n",
       "        \n",
       "            </div>\n",
       "        "
      ],
      "text/plain": [
       "<pyspark.sql.session.SparkSession at 0x7efc7a36da50>"
      ]
     },
     "execution_count": 64,
     "metadata": {},
     "output_type": "execute_result"
    }
   ],
   "source": [
    "spark = SparkSession.builder.config(conf=conf).getOrCreate()\n",
    "spark"
   ]
  },
  {
   "cell_type": "markdown",
   "metadata": {},
   "source": [
    "Укажем базу данных, которая была создана в первой части лабораторной работы."
   ]
  },
  {
   "cell_type": "code",
   "execution_count": 65,
   "metadata": {},
   "outputs": [],
   "source": [
    "database_name = \"Khripunov_database\""
   ]
  },
  {
   "cell_type": "markdown",
   "metadata": {},
   "source": [
    "Установим созданную базу данных как текущую."
   ]
  },
  {
   "cell_type": "code",
   "execution_count": 66,
   "metadata": {},
   "outputs": [],
   "source": [
    "spark.catalog.setCurrentDatabase(database_name)"
   ]
  },
  {
   "cell_type": "markdown",
   "metadata": {},
   "source": [
    "Прочитаем сохранённую в предыдущей части работы таблицу и загрузим её в `Spark Dataframe`."
   ]
  },
  {
   "cell_type": "code",
   "execution_count": 67,
   "metadata": {},
   "outputs": [],
   "source": [
    "df = spark.table(\"sobd_lab1_table2\")"
   ]
  },
  {
   "cell_type": "markdown",
   "metadata": {},
   "source": [
    "Выведем прочитанную таблицу на экран."
   ]
  },
  {
   "cell_type": "code",
   "execution_count": 68,
   "metadata": {},
   "outputs": [
    {
     "name": "stdout",
     "output_type": "stream",
     "text": [
      "+---------+---------+-------+---------------+-----------+----------------+--------------+-------------+\n",
      "|Timestamp|From Bank|To Bank|Amount Received|Amount Paid|Payment Currency|Payment Format|Is Laundering|\n",
      "+---------+---------+-------+---------------+-----------+----------------+--------------+-------------+\n",
      "|     NULL|  0037220|0143318|       67597.03|   67597.03|            Yuan|   Credit Card|        false|\n",
      "|     NULL|  0037220|0143318|      6639557.0|  6639557.0|            Yuan|           ACH|        false|\n",
      "|     NULL|  0018184|0018184|          64.12|      64.12|            Yuan|  Reinvestment|        false|\n",
      "|     NULL|  0117909|0040526|      2685393.2|  2685393.2|            Yuan|        Cheque|        false|\n",
      "|     NULL|  0117909|0040526|      183521.27|  183521.27|            Yuan|   Credit Card|        false|\n",
      "|     NULL|  0117909|0040526|      2184496.8|  2184496.8|            Yuan|           ACH|        false|\n",
      "|     NULL|      012|0139273|        1080.59|    1080.59|            Yuan|        Cheque|        false|\n",
      "|     NULL|      012|0139273|         337.25|     337.25|            Yuan|          Cash|        false|\n",
      "|     NULL|      012|0139273|         665.57|     665.57|            Yuan|           ACH|        false|\n",
      "|     NULL|  0043815|0043815|         145.45|     145.45|            Yuan|  Reinvestment|        false|\n",
      "|     NULL|  0235304|0235304|       11396.05|   11396.05|            Yuan|  Reinvestment|        false|\n",
      "|     NULL|      021|    021|          36.09|      36.09|            Yuan|  Reinvestment|        false|\n",
      "|     NULL|  0138848|0138848|        14205.3|    14205.3|            Yuan|  Reinvestment|        false|\n",
      "|     NULL|  0119259|0139429|      109140.51|  109140.51|            Yuan|        Cheque|        false|\n",
      "|     NULL|  0119259|0139429|       43683.58|   43683.58|            Yuan|   Credit Card|        false|\n",
      "|     NULL|  0119259|0139429|       66562.28|   66562.28|            Yuan|          Cash|        false|\n",
      "|     NULL|  0119259|0139429|        7037.02|    7037.02|            Yuan|          Wire|        false|\n",
      "|     NULL|  0237303|0034338|         830.59|     830.59|            Yuan|        Cheque|        false|\n",
      "|     NULL|  0237303|0034338|         798.02|     798.02|            Yuan|   Credit Card|        false|\n",
      "|     NULL|  0237303|0034338|         357.61|     357.61|            Yuan|           ACH|        false|\n",
      "+---------+---------+-------+---------------+-----------+----------------+--------------+-------------+\n",
      "only showing top 20 rows\n",
      "\n"
     ]
    }
   ],
   "source": [
    "df.show()"
   ]
  },
  {
   "cell_type": "markdown",
   "metadata": {},
   "source": [
    "Посмотрим на схему данных."
   ]
  },
  {
   "cell_type": "code",
   "execution_count": 69,
   "metadata": {},
   "outputs": [
    {
     "name": "stdout",
     "output_type": "stream",
     "text": [
      "root\n",
      " |-- Timestamp: timestamp (nullable = true)\n",
      " |-- From Bank: string (nullable = true)\n",
      " |-- To Bank: string (nullable = true)\n",
      " |-- Amount Received: float (nullable = true)\n",
      " |-- Amount Paid: float (nullable = true)\n",
      " |-- Payment Currency: string (nullable = true)\n",
      " |-- Payment Format: string (nullable = true)\n",
      " |-- Is Laundering: boolean (nullable = true)\n",
      "\n"
     ]
    }
   ],
   "source": [
    "df.printSchema()"
   ]
  },
  {
   "cell_type": "markdown",
   "metadata": {},
   "source": [
    "Вычислим количество строк в датафрейме."
   ]
  },
  {
   "cell_type": "code",
   "execution_count": 70,
   "metadata": {},
   "outputs": [
    {
     "data": {
      "text/plain": [
       "31898238"
      ]
     },
     "execution_count": 70,
     "metadata": {},
     "output_type": "execute_result"
    }
   ],
   "source": [
    "df.count()"
   ]
  },
  {
   "cell_type": "markdown",
   "metadata": {},
   "source": [
    "#### Анализ столбца `To Bank`\n",
    "\n",
    "Посмотрим внимательно на значения в столбце. Видно, что в данном столбце расположен **категориальный признак**.\n",
    "\n",
    "Введем функцию, определяющую количество NULL-значений в столбце."
   ]
  },
  {
   "cell_type": "code",
   "execution_count": 71,
   "metadata": {},
   "outputs": [],
   "source": [
    "def count_nulls(data: DataFrame,\n",
    "                column_name: str) -> None:\n",
    "    \"\"\"\n",
    "    Подсчет количества null и not null значений в указанном столбце 'To Bank'.\n",
    "\n",
    "    Args:\n",
    "        data (DataFrame): DataFrame, содержащий данные.\n",
    "        column_name (str): Имя столбца для подсчета null и not null значений 'To Bank'.\n",
    "    \n",
    "    Returns:\n",
    "        None\n",
    "    \"\"\"\n",
    "    # Подсчет количества null значений в указанном столбце 'To Bank'\n",
    "    null_counts = data.select(\n",
    "        sum(col(column_name).isNull().cast(\"int\"))\n",
    "    ).collect()[0][0]\n",
    "\n",
    "    # Подсчет количества not null значений в указанном столбце 'To Bank'\n",
    "    not_null_counts = data.select(\n",
    "        sum(col(column_name).isNotNull().cast(\"int\"))\n",
    "    ).collect()[0][0]\n",
    "\n",
    "    # Вывод результатов\n",
    "    print(f\"Число колонок с NULL: {null_counts} \"\n",
    "          f\"({100 * null_counts / (null_counts + not_null_counts):.2f}%)\")"
   ]
  },
  {
   "cell_type": "code",
   "execution_count": 72,
   "metadata": {},
   "outputs": [
    {
     "name": "stderr",
     "output_type": "stream",
     "text": [
      "                                                                                \r"
     ]
    },
    {
     "name": "stdout",
     "output_type": "stream",
     "text": [
      "Число колонок с NULL: 0 (0.00%)\n"
     ]
    }
   ],
   "source": [
    "count_nulls(data=df, column_name=\"To Bank\")"
   ]
  },
  {
   "cell_type": "markdown",
   "metadata": {},
   "source": [
    "Столбец `To Bank` содержит 0 (0.00%) количество пропущенных значений. "
   ]
  },
  {
   "cell_type": "markdown",
   "metadata": {},
   "source": [
    "\n",
    "Отсортируем датафрейм по столбцу `To Bank`"
   ]
  },
  {
   "cell_type": "code",
   "execution_count": 73,
   "metadata": {},
   "outputs": [
    {
     "name": "stderr",
     "output_type": "stream",
     "text": [
      "[Stage 178:========================================>              (17 + 6) / 23]\r"
     ]
    },
    {
     "name": "stdout",
     "output_type": "stream",
     "text": [
      "+---------+---------+-------+---------------+-----------+----------------+--------------+-------------+\n",
      "|Timestamp|From Bank|To Bank|Amount Received|Amount Paid|Payment Currency|Payment Format|Is Laundering|\n",
      "+---------+---------+-------+---------------+-----------+----------------+--------------+-------------+\n",
      "|     NULL|   032405|    070|         543.56|     543.56|              US|          Cash|        false|\n",
      "|     NULL|    03544|    070|         419.01|     419.01|              US|          Cash|        false|\n",
      "|     NULL|  0369007|    070|        1298.44|    1298.44|            Yuan|          Cash|        false|\n",
      "|     NULL|   031628|    070|         798.68|     798.68|              US|          Cash|        false|\n",
      "|     NULL|  0330372|    070|         136.72|     136.72|            Euro|          Cash|        false|\n",
      "|     NULL|   032276|    070|         252.22|     252.22|              US|          Cash|        false|\n",
      "|     NULL| 03111496|    070|          57.63|      57.63|        Canadian|          Cash|        false|\n",
      "|     NULL|   037977|    070|         345.65|     345.65|              US|          Cash|        false|\n",
      "|     NULL| 03188451|    070|           0.01|       0.01|              US|          Cash|        false|\n",
      "|     NULL|   031034|    070|         123.18|     123.18|              US|          Cash|        false|\n",
      "|     NULL|  0335458|    070|        2906.55|    2906.55|            Yuan|          Cash|        false|\n",
      "|     NULL|  0311577|    070|          89.79|      89.79|              US|          Cash|        false|\n",
      "|     NULL|   036542|    070|         967.38|     967.38|            Yuan|          Cash|        false|\n",
      "|     NULL|  0315235|    070|         290.89|     290.89|              US|          Cash|        false|\n",
      "|     NULL|  0311091|    070|         611.87|     611.87|            Euro|          Cash|        false|\n",
      "|     NULL|  0332711|    070|         575.48|     575.48|              US|          Cash|        false|\n",
      "|     NULL| 03155732|    070|        3565.48|    3565.48|     Brazil Real|          Cash|        false|\n",
      "|     NULL|  0320988|    070|         508.97|     508.97|              US|          Cash|        false|\n",
      "|     NULL| 03153935|    070|          21.07|      21.07|            Euro|          Cash|        false|\n",
      "|     NULL|  0312552|    070|          47.24|      47.24|              US|          Cash|        false|\n",
      "+---------+---------+-------+---------------+-----------+----------------+--------------+-------------+\n",
      "only showing top 20 rows\n",
      "\n"
     ]
    },
    {
     "name": "stderr",
     "output_type": "stream",
     "text": [
      "                                                                                \r"
     ]
    }
   ],
   "source": [
    "df.orderBy(\"To Bank\", ascending=False).show()"
   ]
  },
  {
   "cell_type": "markdown",
   "metadata": {},
   "source": [
    "Проверим наличие дубликатов в датафрейме."
   ]
  },
  {
   "cell_type": "code",
   "execution_count": 74,
   "metadata": {},
   "outputs": [
    {
     "name": "stderr",
     "output_type": "stream",
     "text": [
      "[Stage 179:========================================>              (17 + 6) / 23]\r"
     ]
    },
    {
     "name": "stdout",
     "output_type": "stream",
     "text": [
      "+-------+-----+\n",
      "|To Bank|count|\n",
      "+-------+-----+\n",
      "|    027|84132|\n",
      "|    012|74056|\n",
      "|    000|61261|\n",
      "|    020|58812|\n",
      "|   0112|58720|\n",
      "|    011|56368|\n",
      "|    029|48049|\n",
      "|   0114|47860|\n",
      "|    004|47570|\n",
      "|    025|42344|\n",
      "|    006|40451|\n",
      "|    003|38245|\n",
      "|   0111|38167|\n",
      "|   0113|37101|\n",
      "|   0015|34517|\n",
      "|  02310|33197|\n",
      "|    026|32360|\n",
      "|   0210|31862|\n",
      "|    028|31687|\n",
      "|  00214|30919|\n",
      "+-------+-----+\n",
      "only showing top 20 rows\n",
      "\n"
     ]
    },
    {
     "name": "stderr",
     "output_type": "stream",
     "text": [
      "                                                                                \r"
     ]
    }
   ],
   "source": [
    "(\n",
    "    df\n",
    "    .groupBy(\"To Bank\")\n",
    "    .count()\n",
    "    .where(\"count > 1\")\n",
    "    .orderBy(\"count\", ascending=False)\n",
    "    .show()\n",
    ")"
   ]
  },
  {
   "cell_type": "code",
   "execution_count": 75,
   "metadata": {},
   "outputs": [
    {
     "name": "stdout",
     "output_type": "stream",
     "text": [
      "+---------+---------+-------+---------------+-----------+----------------+--------------+-------------+\n",
      "|Timestamp|From Bank|To Bank|Amount Received|Amount Paid|Payment Currency|Payment Format|Is Laundering|\n",
      "+---------+---------+-------+---------------+-----------+----------------+--------------+-------------+\n",
      "|     NULL|      000|    000|         446.24|      66.63|              US|           ACH|        false|\n",
      "|     NULL|      000|    000|         366.62|      54.74|              US|           ACH|        false|\n",
      "|     NULL|   018824|    000|       14276.13|   14276.13|              US|           ACH|         true|\n",
      "|     NULL|      000|    000|        4973.33|    4973.33|              US|  Reinvestment|        false|\n",
      "|     NULL|      070|    000|         196.61|     196.61|              US|        Cheque|        false|\n",
      "|     NULL|      070|    000|          71.94|      71.94|              US|   Credit Card|        false|\n",
      "|     NULL|      070|    000|        5740.89|    5740.89|              US|        Cheque|        false|\n",
      "|     NULL|      070|    000|       21389.17|   21389.17|              US|          Cash|        false|\n",
      "|     NULL|      070|    000|      822710.06|  822710.06|              US|        Cheque|        false|\n",
      "|     NULL|      070|    000|      128797.08|  128797.08|              US|          Cash|        false|\n",
      "|     NULL|      000|    000|          21.59|      21.59|              US|  Reinvestment|        false|\n",
      "|     NULL|      000|    000|      131321.88|  131321.88|              US|  Reinvestment|        false|\n",
      "|     NULL|      020|    000|         508.33|     508.33|              US|        Cheque|        false|\n",
      "|     NULL|      020|    000|         564.73|     564.73|              US|   Credit Card|        false|\n",
      "|     NULL|    00214|    000|        2387.01|    2387.01|              US|   Credit Card|        false|\n",
      "|     NULL|    02776|    000|         627.93|     627.93|              US|        Cheque|        false|\n",
      "|     NULL|    02776|    000|          779.4|      779.4|              US|   Credit Card|        false|\n",
      "|     NULL|    02776|    000|           52.9|       52.9|              US|          Cash|        false|\n",
      "|     NULL|    02776|    000|          29.16|      29.16|              US|          Wire|        false|\n",
      "|     NULL|    02776|    000|         139.86|     139.86|              US|        Cheque|        false|\n",
      "+---------+---------+-------+---------------+-----------+----------------+--------------+-------------+\n",
      "only showing top 20 rows\n",
      "\n"
     ]
    }
   ],
   "source": [
    "df.filter(col(\"To Bank\") == \"000\").show()"
   ]
  },
  {
   "cell_type": "markdown",
   "metadata": {},
   "source": [
    "Реализация функции для расчета и визуализации распределения категориального признака"
   ]
  },
  {
   "cell_type": "code",
   "execution_count": 76,
   "metadata": {},
   "outputs": [],
   "source": [
    "def plot_cat_distribution(data: DataFrame,\n",
    "                          column_name: str,\n",
    "                          top_n: int = 20) -> None:\n",
    "    \"\"\"\n",
    "    Построение распределения категориального признака.\n",
    "\n",
    "    Args:\n",
    "        data (DataFrame): DataFrame, содержащий данные.\n",
    "        column_name (str): Имя столбца для группировки.\n",
    "        top_n (int): Количество топ-значений для отображения.\n",
    "    \n",
    "    Returns:\n",
    "        None\n",
    "    \"\"\"\n",
    "    # Группировка данных по столбцу и подсчет количества\n",
    "    categories = (\n",
    "        data\n",
    "        .groupBy(column_name)\n",
    "        .count()\n",
    "        .orderBy(\"count\", ascending=False)\n",
    "    )\n",
    "    \n",
    "    print(f\"Количество категорий признака {column_name}: {categories.count()}\")\n",
    "\n",
    "    categories = (\n",
    "        categories\n",
    "        .limit(top_n)\n",
    "        .toPandas()\n",
    "    )\n",
    "    \n",
    "    # Визуализация с использованием Seaborn\n",
    "    plt.figure(figsize=(10, 6))\n",
    "    sns.barplot(x=column_name, y=\"count\", data=categories)\n",
    "    plt.title(f\"Barplot of \\\"{column_name}\\\" counts\")\n",
    "    plt.xlabel(column_name)\n",
    "    plt.ylabel(\"Count\")\n",
    "    plt.xticks(rotation=45)\n",
    "    plt.show()"
   ]
  },
  {
   "cell_type": "code",
   "execution_count": 77,
   "metadata": {},
   "outputs": [
    {
     "name": "stderr",
     "output_type": "stream",
     "text": [
      "                                                                                \r"
     ]
    },
    {
     "name": "stdout",
     "output_type": "stream",
     "text": [
      "Количество категорий признака To Bank: 62855\n"
     ]
    },
    {
     "name": "stderr",
     "output_type": "stream",
     "text": [
      "                                                                                \r"
     ]
    },
    {
     "data": {
      "image/png": "[encoded data removed]",
      "text/plain": [
       "<Figure size 1000x600 with 1 Axes>"
      ]
     },
     "metadata": {},
     "output_type": "display_data"
    }
   ],
   "source": [
    "plot_cat_distribution(data=df, column_name=\"To Bank\")"
   ]
  },
  {
   "cell_type": "markdown",
   "metadata": {},
   "source": [
    "#### Анализ столбца `From Bank`\n",
    "\n",
    "Посмотрим внимательно на значения в столбце. Видно, что в данном столбце расположен **категориальный признак**.\n",
    "\n",
    "Введем функцию, определяющую количество NULL-значений в столбце."
   ]
  },
  {
   "cell_type": "code",
   "execution_count": 78,
   "metadata": {},
   "outputs": [],
   "source": [
    "def count_nulls(data: DataFrame,\n",
    "                column_name: str) -> None:\n",
    "    \"\"\"\n",
    "    Подсчет количества null и not null значений в указанном столбце.\n",
    "\n",
    "    Args:\n",
    "        data (DataFrame): DataFrame, содержащий данные.\n",
    "        column_name (str): Имя столбца для подсчета null и not null значений.\n",
    "    \n",
    "    Returns:\n",
    "        None\n",
    "    \"\"\"\n",
    "    # Подсчет количества null значений в указанном столбце\n",
    "    null_counts = data.select(\n",
    "        sum(col(column_name).isNull().cast(\"int\"))\n",
    "    ).collect()[0][0]\n",
    "\n",
    "    # Подсчет количества not null значений в указанном столбце\n",
    "    not_null_counts = data.select(\n",
    "        sum(col(column_name).isNotNull().cast(\"int\"))\n",
    "    ).collect()[0][0]\n",
    "\n",
    "    # Вывод результатов\n",
    "    print(f\"Число колонок с NULL: {null_counts} \"\n",
    "          f\"({100 * null_counts / (null_counts + not_null_counts):.2f}%)\")"
   ]
  },
  {
   "cell_type": "code",
   "execution_count": 79,
   "metadata": {},
   "outputs": [
    {
     "name": "stdout",
     "output_type": "stream",
     "text": [
      "Число колонок с NULL: 0 (0.00%)\n"
     ]
    },
    {
     "name": "stderr",
     "output_type": "stream",
     "text": [
      "                                                                                \r"
     ]
    }
   ],
   "source": [
    "count_nulls(data=df, column_name=\"From Bank\")"
   ]
  },
  {
   "cell_type": "markdown",
   "metadata": {},
   "source": [
    "Столбец `From Bank` содержит 0 (0.00%) количество пропущенных значений. "
   ]
  },
  {
   "cell_type": "markdown",
   "metadata": {},
   "source": [
    "Проверим наличие дубликатов в датафрейме."
   ]
  },
  {
   "cell_type": "code",
   "execution_count": 80,
   "metadata": {},
   "outputs": [
    {
     "name": "stderr",
     "output_type": "stream",
     "text": [
      "[Stage 198:===========================================>           (18 + 5) / 23]\r"
     ]
    },
    {
     "name": "stdout",
     "output_type": "stream",
     "text": [
      "+---------+-------+\n",
      "|From Bank|  count|\n",
      "+---------+-------+\n",
      "|      070|2960783|\n",
      "|      012| 166485|\n",
      "|      000| 159908|\n",
      "|      020| 157093|\n",
      "|      027| 149819|\n",
      "|      011| 138033|\n",
      "|     0112|  98772|\n",
      "|      029|  91374|\n",
      "|      025|  85366|\n",
      "|      003|  84230|\n",
      "|      004|  83707|\n",
      "|     0114|  79976|\n",
      "|      006|  75996|\n",
      "|    00214|  75480|\n",
      "|    02310|  75445|\n",
      "|    01208|  74440|\n",
      "|     0111|  71519|\n",
      "|     0113|  70114|\n",
      "|    02597|  67835|\n",
      "|    00544|  62907|\n",
      "+---------+-------+\n",
      "only showing top 20 rows\n",
      "\n"
     ]
    },
    {
     "name": "stderr",
     "output_type": "stream",
     "text": [
      "                                                                                \r"
     ]
    }
   ],
   "source": [
    "(\n",
    "    df\n",
    "    .groupBy(\"From Bank\")\n",
    "    .count()\n",
    "    .where(\"count > 1\")\n",
    "    .orderBy(\"count\", ascending=False)\n",
    "    .show()\n",
    ")"
   ]
  },
  {
   "cell_type": "code",
   "execution_count": 81,
   "metadata": {},
   "outputs": [
    {
     "name": "stdout",
     "output_type": "stream",
     "text": [
      "+---------+---------+-------+---------------+-----------+----------------+--------------+-------------+\n",
      "|Timestamp|From Bank|To Bank|Amount Received|Amount Paid|Payment Currency|Payment Format|Is Laundering|\n",
      "+---------+---------+-------+---------------+-----------+----------------+--------------+-------------+\n",
      "|     NULL|      070|0115887|    1.5629031E7|1.5629031E7|            Yuan|        Cheque|        false|\n",
      "|     NULL|      070|0034715|        1296.32|    1296.32|            Yuan|        Cheque|        false|\n",
      "|     NULL|      070|0034715|          96.25|      96.25|            Yuan|   Credit Card|        false|\n",
      "|     NULL|      070| 014902|         665.49|     665.49|            Yuan|        Cheque|        false|\n",
      "|     NULL|      070| 014902|         272.18|     272.18|            Yuan|          Cash|        false|\n",
      "|     NULL|      070|0237851|       15121.46|   15121.46|            Yuan|        Cheque|        false|\n",
      "|     NULL|      070|0237303|          995.0|      995.0|            Yuan|        Cheque|        false|\n",
      "|     NULL|      070|0237303|          193.6|      193.6|            Yuan|   Credit Card|        false|\n",
      "|     NULL|      070|0019769|        2091.48|    2091.48|            Yuan|        Cheque|        false|\n",
      "|     NULL|      070|0019769|          34.43|      34.43|            Yuan|   Credit Card|        false|\n",
      "|     NULL|      070|0136903|        4367.82|    4367.82|            Yuan|        Cheque|        false|\n",
      "|     NULL|      070|0136903|         275.64|     275.64|            Yuan|   Credit Card|        false|\n",
      "|     NULL|      070|0038094|         636.79|     636.79|            Yuan|        Cheque|        false|\n",
      "|     NULL|      070|0038094|          99.57|      99.57|            Yuan|   Credit Card|        false|\n",
      "|     NULL|      070|0220124|        1227.86|    1227.86|            Yuan|   Credit Card|        false|\n",
      "|     NULL|      070|0034338|         2278.6|     2278.6|            Yuan|   Credit Card|        false|\n",
      "|     NULL|      070|0034338|         514.63|     514.63|            Yuan|          Cash|        false|\n",
      "|     NULL|      070|0038110|         1991.4|     1991.4|            Yuan|        Cheque|        false|\n",
      "|     NULL|      070|0038110|        5201.26|    5201.26|            Yuan|   Credit Card|        false|\n",
      "|     NULL|      070|0038110|         841.09|     841.09|            Yuan|          Cash|        false|\n",
      "+---------+---------+-------+---------------+-----------+----------------+--------------+-------------+\n",
      "only showing top 20 rows\n",
      "\n"
     ]
    }
   ],
   "source": [
    "df.filter(col(\"From Bank\") == \"070\").show()"
   ]
  },
  {
   "cell_type": "markdown",
   "metadata": {},
   "source": [
    "Создадим функцию расчета и визуализации распределения категориальных признаков."
   ]
  },
  {
   "cell_type": "code",
   "execution_count": 82,
   "metadata": {},
   "outputs": [],
   "source": [
    "def plot_cat_distribution(data: DataFrame,\n",
    "                          column_name: str,\n",
    "                          top_n: int = 20) -> None:\n",
    "    \"\"\"\n",
    "    Построение распределения категориального признака.\n",
    "\n",
    "    Args:\n",
    "        data (DataFrame): DataFrame, содержащий данные.\n",
    "        column_name (str): Имя столбца для группировки.\n",
    "        top_n (int): Количество топ-значений для отображения.\n",
    "    \n",
    "    Returns:\n",
    "        None\n",
    "    \"\"\"\n",
    "    # Группировка данных по столбцу и подсчет количества\n",
    "    categories = (\n",
    "        data\n",
    "        .groupBy(column_name)\n",
    "        .count()\n",
    "        .orderBy(\"count\", ascending=False)\n",
    "    )\n",
    "    \n",
    "    print(f\"Количество категорий признака {column_name}: {categories.count()}\")\n",
    "\n",
    "    categories = (\n",
    "        categories\n",
    "        .limit(top_n)\n",
    "        .toPandas()\n",
    "    )\n",
    "    \n",
    "    # Визуализация с использованием Seaborn\n",
    "    plt.figure(figsize=(10, 6))\n",
    "    sns.barplot(x=column_name, y=\"count\", data=categories)\n",
    "    plt.title(f\"Barplot of \\\"{column_name}\\\" counts\")\n",
    "    plt.xlabel(column_name)\n",
    "    plt.ylabel(\"Count\")\n",
    "    plt.xticks(rotation=45)\n",
    "    plt.show()"
   ]
  },
  {
   "cell_type": "code",
   "execution_count": 83,
   "metadata": {},
   "outputs": [
    {
     "name": "stderr",
     "output_type": "stream",
     "text": [
      "                                                                                \r"
     ]
    },
    {
     "name": "stdout",
     "output_type": "stream",
     "text": [
      "Количество категорий признака From Bank: 122391\n"
     ]
    },
    {
     "name": "stderr",
     "output_type": "stream",
     "text": [
      "                                                                                \r"
     ]
    },
    {
     "data": {
      "image/png": "[encoded data removed]",
      "text/plain": [
       "<Figure size 1000x600 with 1 Axes>"
      ]
     },
     "metadata": {},
     "output_type": "display_data"
    }
   ],
   "source": [
    "plot_cat_distribution(data=df, column_name=\"From Bank\")"
   ]
  },
  {
   "cell_type": "markdown",
   "metadata": {},
   "source": [
    "### На представленном графике видно, что столбец \"From Bank\" имеет сильную несбалансированность в распределении категорий:\n",
    "\n",
    "1. Категория 070 доминирует, имея значительно большее количество записей (около 3 миллионов). Это явное преобладание говорит о том, что большая часть данных связана именно с этим значением.\n",
    "\n",
    "2. Остальные категории содержат существенно меньше записей. Большинство других значений распределены равномерно, их частоты находятся на уровне намного ниже 500 тысяч."
   ]
  },
  {
   "cell_type": "markdown",
   "metadata": {},
   "source": [
    "#### Анализ столбца `Payment Currency`\n",
    "\n",
    "Посмотрим внимательно на значения в столбце. Видно, что в данном столбце расположен **категориальный признак**.\n",
    "\n",
    "Введем функцию, определяющую количество NULL-значений в столбце."
   ]
  },
  {
   "cell_type": "code",
   "execution_count": 84,
   "metadata": {},
   "outputs": [],
   "source": [
    "def count_nulls(data: DataFrame,\n",
    "                column_name: str) -> None:\n",
    "    \"\"\"\n",
    "    Подсчет количества null и not null значений в указанном столбце.\n",
    "\n",
    "    Args:\n",
    "        data (DataFrame): DataFrame, содержащий данные.\n",
    "        column_name (str): Имя столбца для подсчета null и not null значений.\n",
    "    \n",
    "    Returns:\n",
    "        None\n",
    "    \"\"\"\n",
    "    # Подсчет количества null значений в указанном столбце\n",
    "    null_counts = data.select(\n",
    "        sum(col(column_name).isNull().cast(\"int\"))\n",
    "    ).collect()[0][0]\n",
    "\n",
    "    # Подсчет количества not null значений в указанном столбце\n",
    "    not_null_counts = data.select(\n",
    "        sum(col(column_name).isNotNull().cast(\"int\"))\n",
    "    ).collect()[0][0]\n",
    "\n",
    "    # Вывод результатов\n",
    "    print(f\"Число колонок с NULL: {null_counts} \"\n",
    "          f\"({100 * null_counts / (null_counts + not_null_counts):.2f}%)\")"
   ]
  },
  {
   "cell_type": "code",
   "execution_count": 85,
   "metadata": {},
   "outputs": [
    {
     "name": "stdout",
     "output_type": "stream",
     "text": [
      "Число колонок с NULL: 0 (0.00%)\n"
     ]
    }
   ],
   "source": [
    "count_nulls(data=df, column_name=\"Payment Currency\")"
   ]
  },
  {
   "cell_type": "markdown",
   "metadata": {},
   "source": [
    "Столбец `Payment Currency` содержит 0 (0.00%) количество пропущенных значений. "
   ]
  },
  {
   "cell_type": "markdown",
   "metadata": {},
   "source": [
    "Проверим наличие дубликатов в датафрейме."
   ]
  },
  {
   "cell_type": "code",
   "execution_count": 86,
   "metadata": {},
   "outputs": [
    {
     "name": "stderr",
     "output_type": "stream",
     "text": [
      "[Stage 217:===========================================>           (18 + 5) / 23]\r"
     ]
    },
    {
     "name": "stdout",
     "output_type": "stream",
     "text": [
      "+----------------+--------+\n",
      "|Payment Currency|   count|\n",
      "+----------------+--------+\n",
      "|              US|11688249|\n",
      "|            Euro| 7315958|\n",
      "|            Yuan| 2330638|\n",
      "|          Shekel| 1408707|\n",
      "|        Canadian| 1078358|\n",
      "|        UK Pound| 1018575|\n",
      "|           Ruble|  975525|\n",
      "|      Australian|  918569|\n",
      "|             Yen|  856132|\n",
      "|     Swiss Franc|  844623|\n",
      "|    Mexican Peso|  841257|\n",
      "|           Rupee|  738718|\n",
      "|         Bitcoin|  688914|\n",
      "|     Brazil Real|  629510|\n",
      "|     Saudi Riyal|  564505|\n",
      "+----------------+--------+\n",
      "\n"
     ]
    },
    {
     "name": "stderr",
     "output_type": "stream",
     "text": [
      "                                                                                \r"
     ]
    }
   ],
   "source": [
    "(\n",
    "    df\n",
    "    .groupBy(\"Payment Currency\")\n",
    "    .count()\n",
    "    .where(\"count > 1\")\n",
    "    .orderBy(\"count\", ascending=False)\n",
    "    .show()\n",
    ")"
   ]
  },
  {
   "cell_type": "code",
   "execution_count": 87,
   "metadata": {},
   "outputs": [
    {
     "name": "stdout",
     "output_type": "stream",
     "text": [
      "+---------+---------+--------+---------------+-----------+----------------+--------------+-------------+\n",
      "|Timestamp|From Bank| To Bank|Amount Received|Amount Paid|Payment Currency|Payment Format|Is Laundering|\n",
      "+---------+---------+--------+---------------+-----------+----------------+--------------+-------------+\n",
      "|     NULL|     0015|02181233|    1.1848133E7|1.1848133E7|          Shekel|        Cheque|        false|\n",
      "|     NULL|     0220|    0220|      1737313.4|  1737313.4|          Shekel|  Reinvestment|        false|\n",
      "|     NULL| 03183148|03183148|        8566.13|    8566.13|          Shekel|  Reinvestment|        false|\n",
      "|     NULL| 00181638|02182618|      1394334.0|  1394334.0|          Shekel|           ACH|        false|\n",
      "|     NULL| 00180537|00181251|      1060714.0|  1060714.0|          Shekel|        Cheque|        false|\n",
      "|     NULL| 01182567|01180412|       315343.0|   315343.0|          Shekel|        Cheque|        false|\n",
      "|     NULL| 00182530|02182159|        15651.0|    15651.0|          Shekel|        Cheque|        false|\n",
      "|     NULL| 02189480|02189480|       24205.91|   24205.91|          Shekel|  Reinvestment|        false|\n",
      "|     NULL| 01180218|01182679|         6898.0|     6898.0|          Shekel|        Cheque|        false|\n",
      "|     NULL| 01185966|02195915|       14849.27|   14849.27|          Shekel|           ACH|        false|\n",
      "|     NULL|     0015|    0015|      3553987.5|  3553987.5|          Shekel|  Reinvestment|        false|\n",
      "|     NULL|     0119|    0121|      5759668.0|  5759668.0|          Shekel|        Cheque|        false|\n",
      "|     NULL|     0015|    0119|       10952.96|   10952.96|          Shekel|        Cheque|        false|\n",
      "|     NULL|     0015|    0119|       46364.88|   46364.88|          Shekel|   Credit Card|        false|\n",
      "|     NULL|     0121|    0015|         279.94|     279.94|          Shekel|        Cheque|        false|\n",
      "|     NULL|     0121|    0015|         772.93|     772.93|          Shekel|           ACH|        false|\n",
      "|     NULL|     0119|    0119|          18.37|      18.37|          Shekel|        Cheque|        false|\n",
      "|     NULL|     0119|    0119|          22.56|      22.56|          Shekel|          Cash|        false|\n",
      "|     NULL|    01203|00180537|         543.01|     543.01|          Shekel|        Cheque|        false|\n",
      "|     NULL|    01203|00180537|        1603.49|    1603.49|          Shekel|   Credit Card|        false|\n",
      "+---------+---------+--------+---------------+-----------+----------------+--------------+-------------+\n",
      "only showing top 20 rows\n",
      "\n"
     ]
    }
   ],
   "source": [
    "df.filter(col(\"Payment Currency\") == \"Shekel\").show()"
   ]
  },
  {
   "cell_type": "markdown",
   "metadata": {},
   "source": [
    "Создадим функцию расчета и визуализации распределения категориальных признаков."
   ]
  },
  {
   "cell_type": "code",
   "execution_count": 88,
   "metadata": {},
   "outputs": [],
   "source": [
    "def plot_cat_distribution(data: DataFrame,\n",
    "                          column_name: str,\n",
    "                          top_n: int = 20) -> None:\n",
    "    \"\"\"\n",
    "    Построение распределения категориального признака.\n",
    "\n",
    "    Args:\n",
    "        data (DataFrame): DataFrame, содержащий данные.\n",
    "        column_name (str): Имя столбца для группировки.\n",
    "        top_n (int): Количество топ-значений для отображения.\n",
    "    \n",
    "    Returns:\n",
    "        None\n",
    "    \"\"\"\n",
    "    # Группировка данных по столбцу и подсчет количества\n",
    "    categories = (\n",
    "        data\n",
    "        .groupBy(column_name)\n",
    "        .count()\n",
    "        .orderBy(\"count\", ascending=False)\n",
    "    )\n",
    "    \n",
    "    print(f\"Количество категорий признака {column_name}: {categories.count()}\")\n",
    "\n",
    "    categories = (\n",
    "        categories\n",
    "        .limit(top_n)\n",
    "        .toPandas()\n",
    "    )\n",
    "    \n",
    "    # Визуализация с использованием Seaborn\n",
    "    plt.figure(figsize=(10, 6))\n",
    "    sns.barplot(x=column_name, y=\"count\", data=categories)\n",
    "    plt.title(f\"Barplot of \\\"{column_name}\\\" counts\")\n",
    "    plt.xlabel(column_name)\n",
    "    plt.ylabel(\"Count\")\n",
    "    plt.xticks(rotation=45)\n",
    "    plt.show()"
   ]
  },
  {
   "cell_type": "code",
   "execution_count": 89,
   "metadata": {},
   "outputs": [
    {
     "name": "stderr",
     "output_type": "stream",
     "text": [
      "                                                                                \r"
     ]
    },
    {
     "name": "stdout",
     "output_type": "stream",
     "text": [
      "Количество категорий признака Payment Currency: 15\n"
     ]
    },
    {
     "name": "stderr",
     "output_type": "stream",
     "text": [
      "                                                                                \r"
     ]
    },
    {
     "data": {
      "image/png": "[encoded data removed]",
      "text/plain": [
       "<Figure size 1000x600 with 1 Axes>"
      ]
     },
     "metadata": {},
     "output_type": "display_data"
    }
   ],
   "source": [
    "plot_cat_distribution(data=df, column_name=\"Payment Currency\")"
   ]
  },
  {
   "cell_type": "markdown",
   "metadata": {},
   "source": [
    "#### Анализ столбца `Payment Format`\n",
    "\n",
    "Посмотрим внимательно на значения в столбце. Видно, что в данном столбце расположен **категориальный признак**.\n",
    "\n",
    "Введем функцию, определяющую количество NULL-значений в столбце."
   ]
  },
  {
   "cell_type": "code",
   "execution_count": 90,
   "metadata": {},
   "outputs": [],
   "source": [
    "def count_nulls(data: DataFrame,\n",
    "                column_name: str) -> None:\n",
    "    \"\"\"\n",
    "    Подсчет количества null и not null значений в указанном столбце.\n",
    "\n",
    "    Args:\n",
    "        data (DataFrame): DataFrame, содержащий данные.\n",
    "        column_name (str): Имя столбца для подсчета null и not null значений.\n",
    "    \n",
    "    Returns:\n",
    "        None\n",
    "    \"\"\"\n",
    "    # Подсчет количества null значений в указанном столбце\n",
    "    null_counts = data.select(\n",
    "        sum(col(column_name).isNull().cast(\"int\"))\n",
    "    ).collect()[0][0]\n",
    "\n",
    "    # Подсчет количества not null значений в указанном столбце\n",
    "    not_null_counts = data.select(\n",
    "        sum(col(column_name).isNotNull().cast(\"int\"))\n",
    "    ).collect()[0][0]\n",
    "\n",
    "    # Вывод результатов\n",
    "    print(f\"Число колонок с NULL: {null_counts} \"\n",
    "          f\"({100 * null_counts / (null_counts + not_null_counts):.2f}%)\")"
   ]
  },
  {
   "cell_type": "code",
   "execution_count": 91,
   "metadata": {},
   "outputs": [
    {
     "name": "stdout",
     "output_type": "stream",
     "text": [
      "Число колонок с NULL: 0 (0.00%)\n"
     ]
    }
   ],
   "source": [
    "count_nulls(data=df, column_name=\"Payment Format\")"
   ]
  },
  {
   "cell_type": "markdown",
   "metadata": {},
   "source": [
    "Столбец `Payment Format` содержит 0 (0.00%) количество пропущенных значений. "
   ]
  },
  {
   "cell_type": "markdown",
   "metadata": {},
   "source": [
    "Проверим наличие дубликатов в датафрейме."
   ]
  },
  {
   "cell_type": "code",
   "execution_count": 92,
   "metadata": {},
   "outputs": [
    {
     "name": "stderr",
     "output_type": "stream",
     "text": [
      "[Stage 236:========================================>              (17 + 6) / 23]\r"
     ]
    },
    {
     "name": "stdout",
     "output_type": "stream",
     "text": [
      "+--------------+--------+\n",
      "|Payment Format|   count|\n",
      "+--------------+--------+\n",
      "|        Cheque|12280058|\n",
      "|   Credit Card| 8777816|\n",
      "|           ACH| 3868410|\n",
      "|          Cash| 3217531|\n",
      "|  Reinvestment| 1945611|\n",
      "|          Wire| 1119774|\n",
      "|       Bitcoin|  689038|\n",
      "+--------------+--------+\n",
      "\n"
     ]
    },
    {
     "name": "stderr",
     "output_type": "stream",
     "text": [
      "                                                                                \r"
     ]
    }
   ],
   "source": [
    "(\n",
    "    df\n",
    "    .groupBy(\"Payment Format\")\n",
    "    .count()\n",
    "    .where(\"count > 1\")\n",
    "    .orderBy(\"count\", ascending=False)\n",
    "    .show()\n",
    ")"
   ]
  },
  {
   "cell_type": "code",
   "execution_count": 93,
   "metadata": {},
   "outputs": [
    {
     "name": "stdout",
     "output_type": "stream",
     "text": [
      "+---------+---------+-------+---------------+------------+----------------+--------------+-------------+\n",
      "|Timestamp|From Bank|To Bank|Amount Received| Amount Paid|Payment Currency|Payment Format|Is Laundering|\n",
      "+---------+---------+-------+---------------+------------+----------------+--------------+-------------+\n",
      "|     NULL|  0037220|0143318|      6639557.0|   6639557.0|            Yuan|           ACH|        false|\n",
      "|     NULL|  0117909|0040526|      2184496.8|   2184496.8|            Yuan|           ACH|        false|\n",
      "|     NULL|      012|0139273|         665.57|      665.57|            Yuan|           ACH|        false|\n",
      "|     NULL|  0237303|0034338|         357.61|      357.61|            Yuan|           ACH|        false|\n",
      "|     NULL|      012|0143446|        6209.13|     6209.13|            Yuan|           ACH|        false|\n",
      "|     NULL|  0234525|0142675|      5234402.5|   5234402.5|            Yuan|           ACH|        false|\n",
      "|     NULL|  0237666|0034627|        2058.53|     2058.53|            Yuan|           ACH|        false|\n",
      "|     NULL|  0134597|0043766|   1.25071312E8|1.25071312E8|            Yuan|           ACH|        false|\n",
      "|     NULL|  0216324|0237303|      145075.98|   145075.98|            Yuan|           ACH|        false|\n",
      "|     NULL|  0132268|0039061|         945.54|      945.54|            Yuan|           ACH|        false|\n",
      "|     NULL|  0013016|0013016|        6127.07|      914.82|              US|           ACH|        false|\n",
      "|     NULL|  0013016|0013016|        4912.06|      733.41|              US|           ACH|        false|\n",
      "|     NULL|  0013016|0013016|         185.07|       27.63|              US|           ACH|        false|\n",
      "|     NULL|  0013016|0036326|         185.07|      185.07|            Yuan|           ACH|        false|\n",
      "|     NULL|  0039282|0029723|       604132.5|    604132.5|            Yuan|           ACH|        false|\n",
      "|     NULL|  0027143|0219853|        1664.29|     1664.29|            Yuan|           ACH|        false|\n",
      "|     NULL|  0029723|0139413|         740.45|      740.45|            Yuan|           ACH|        false|\n",
      "|     NULL|  0021582|0141911|        1027.22|     1027.22|            Yuan|           ACH|        false|\n",
      "|     NULL|  0038110|0038166|       25682.61|    25682.61|            Yuan|           ACH|        false|\n",
      "|     NULL|  0233506|0035634|        13134.1|     13134.1|            Yuan|           ACH|        false|\n",
      "+---------+---------+-------+---------------+------------+----------------+--------------+-------------+\n",
      "only showing top 20 rows\n",
      "\n"
     ]
    }
   ],
   "source": [
    "df.filter(col(\"Payment Format\") == \"ACH\").show()"
   ]
  },
  {
   "cell_type": "markdown",
   "metadata": {},
   "source": [
    "Создадим функцию расчета и визуализации распределения категориальных признаков."
   ]
  },
  {
   "cell_type": "code",
   "execution_count": 94,
   "metadata": {},
   "outputs": [],
   "source": [
    "def plot_cat_distribution(data: DataFrame,\n",
    "                          column_name: str,\n",
    "                          top_n: int = 20) -> None:\n",
    "    \"\"\"\n",
    "    Построение распределения категориального признака.\n",
    "\n",
    "    Args:\n",
    "        data (DataFrame): DataFrame, содержащий данные.\n",
    "        column_name (str): Имя столбца для группировки.\n",
    "        top_n (int): Количество топ-значений для отображения.\n",
    "    \n",
    "    Returns:\n",
    "        None\n",
    "    \"\"\"\n",
    "    # Группировка данных по столбцу и подсчет количества\n",
    "    categories = (\n",
    "        data\n",
    "        .groupBy(column_name)\n",
    "        .count()\n",
    "        .orderBy(\"count\", ascending=False)\n",
    "    )\n",
    "    \n",
    "    print(f\"Количество категорий признака {column_name}: {categories.count()}\")\n",
    "\n",
    "    categories = (\n",
    "        categories\n",
    "        .limit(top_n)\n",
    "        .toPandas()\n",
    "    )\n",
    "    \n",
    "    # Визуализация с использованием Seaborn\n",
    "    plt.figure(figsize=(10, 6))\n",
    "    sns.barplot(x=column_name, y=\"count\", data=categories)\n",
    "    plt.title(f\"Barplot of \\\"{column_name}\\\" counts\")\n",
    "    plt.xlabel(column_name)\n",
    "    plt.ylabel(\"Count\")\n",
    "    plt.xticks(rotation=45)\n",
    "    plt.show()"
   ]
  },
  {
   "cell_type": "code",
   "execution_count": 95,
   "metadata": {},
   "outputs": [
    {
     "name": "stderr",
     "output_type": "stream",
     "text": [
      "                                                                                \r"
     ]
    },
    {
     "name": "stdout",
     "output_type": "stream",
     "text": [
      "Количество категорий признака Payment Format: 7\n"
     ]
    },
    {
     "name": "stderr",
     "output_type": "stream",
     "text": [
      "                                                                                \r"
     ]
    },
    {
     "data": {
      "image/png": "[encoded data removed]",
      "text/plain": [
       "<Figure size 1000x600 with 1 Axes>"
      ]
     },
     "metadata": {},
     "output_type": "display_data"
    }
   ],
   "source": [
    "plot_cat_distribution(data=df, column_name=\"Payment Format\")"
   ]
  },
  {
   "cell_type": "markdown",
   "metadata": {},
   "source": [
    "#### Анализ столбца `Amount Received`\n",
    "\n",
    "В соответствии с описанием и содержанием датасета логично считать данный признак **количественным**. Проверим его на наличие пропущенных значений."
   ]
  },
  {
   "cell_type": "code",
   "execution_count": 96,
   "metadata": {},
   "outputs": [
    {
     "name": "stdout",
     "output_type": "stream",
     "text": [
      "Число колонок с NULL: 0 (0.00%)\n"
     ]
    }
   ],
   "source": [
    "count_nulls(data=df, column_name=\"Amount Received\")"
   ]
  },
  {
   "cell_type": "markdown",
   "metadata": {},
   "source": [
    "Видно, что пропуски в данном столбце отсутствуют.\n",
    "\n",
    "Создадим функцию, позволяющую рассчитывать статистические показатели данных в столбцах и строить диаграмму \"ящик с усами\" для оценки наличия выбросов."
   ]
  },
  {
   "cell_type": "code",
   "execution_count": 97,
   "metadata": {},
   "outputs": [],
   "source": [
    "def plot_boxplots(data: DataFrame,\n",
    "                  columns: list[str],\n",
    "                  sample_fraction: float = 0.1) -> None:\n",
    "    \"\"\"\n",
    "    Построение boxplot для нескольких столбцов в PySpark DataFrame.\n",
    "\n",
    "    Args:\n",
    "        data (DataFrame): DataFrame, содержащий данные.\n",
    "        columns (list of str): Список имен столбцов для построения boxplot.\n",
    "        sample_fraction (float): Доля данных для семплирования выбросов.\n",
    "    \n",
    "    Returns:\n",
    "        None\n",
    "    \"\"\"\n",
    "    box_data = []\n",
    "\n",
    "    for column in columns:\n",
    "        # Вычисление квантилей\n",
    "        quantiles = data.approxQuantile(column, [0.25, 0.5, 0.75], 0.01)\n",
    "        q1, median, q3 = quantiles\n",
    "\n",
    "        # Вычисление IQR и границ усов\n",
    "        iqr = q3 - q1\n",
    "        lower_bound = q1 - 1.5 * iqr\n",
    "        upper_bound = q3 + 1.5 * iqr\n",
    "\n",
    "        # Фильтрация выбросов\n",
    "        filtered_df = data.filter((col(column) >= lower_bound) & (col(column) <= upper_bound))\n",
    "        outliers_df = data.filter((col(column) < lower_bound) | (col(column) > upper_bound))\n",
    "\n",
    "        # Вычисление минимального и максимального значений\n",
    "        min_value = data.agg({column: \"min\"}).collect()[0][0]\n",
    "        mean_value = data.agg({column: \"mean\"}).collect()[0][0]\n",
    "        std_value = data.agg({column: \"std\"}).collect()[0][0]\n",
    "        max_value = data.agg({column: \"max\"}).collect()[0][0]\n",
    "\n",
    "        # Ограничение усов минимальным и максимальным значениями\n",
    "        lower_bound = max(lower_bound, min_value)\n",
    "        upper_bound = min(upper_bound, max_value)\n",
    "\n",
    "        # Семплирование выбросов\n",
    "        outliers = []\n",
    "        if not outliers_df.isEmpty():\n",
    "            sampled_outliers_df = outliers_df.sample(sample_fraction)\n",
    "            outliers = (\n",
    "                sampled_outliers_df\n",
    "                .select(column)\n",
    "                .limit(1000)\n",
    "                .collect()\n",
    "            )\n",
    "            outliers = [row[column] for row in outliers]\n",
    "            \n",
    "            # Добавление минимального и максимального значений, если они \n",
    "            # относятся к выбросам и не присутствуют в семпле\n",
    "            if min_value < lower_bound and min_value not in outliers:\n",
    "                outliers.append(min_value)\n",
    "            if max_value > upper_bound and max_value not in outliers:\n",
    "                outliers.append(max_value)\n",
    "\n",
    "        # Подготовка данных для axes.bxp\n",
    "        box_data.append({\n",
    "            'whislo': lower_bound,  # Нижняя граница усов\n",
    "            'q1': q1,               # Первый квартиль\n",
    "            'med': median,          # Медиана\n",
    "            'q3': q3,               # Третий квартиль\n",
    "            'whishi': upper_bound,  # Верхняя граница усов\n",
    "            'fliers': outliers      # Выбросы\n",
    "        })\n",
    "        \n",
    "    # Вывод статистических характеристик\n",
    "    print(f\"Минимальное значение:          {min_value:.2f}\")\n",
    "    print(f\"Среднее значение:              {mean_value:.2f}\")\n",
    "    print(f\"Среднеквадратичное отклонение: {std_value:.2f}\")\n",
    "    print(f\"Первый квартиль:               {q1:.2f}\")\n",
    "    print(f\"Медиана:                       {median:.2f}\")\n",
    "    print(f\"Третий квартиль:               {q3:.2f}\")\n",
    "    print(f\"Максимальное значение:         {max_value:.2f}\")\n",
    "\n",
    "    # Построение boxplot\n",
    "    fig, ax = plt.subplots(figsize=(20, 6))\n",
    "    ax.bxp(box_data, \n",
    "           vert=False, \n",
    "           positions=range(1, len(columns) + 1), widths=0.5)\n",
    "    ax.set_yticks(range(1, len(columns) + 1))\n",
    "    ax.set_yticklabels(columns)\n",
    "    ax.set_xlabel('Value')\n",
    "    ax.set_title('Boxplots')\n",
    "    ax.grid(True)\n",
    "    plt.show()"
   ]
  },
  {
   "cell_type": "code",
   "execution_count": 98,
   "metadata": {},
   "outputs": [
    {
     "name": "stderr",
     "output_type": "stream",
     "text": [
      "                                                                                \r"
     ]
    },
    {
     "name": "stdout",
     "output_type": "stream",
     "text": [
      "Минимальное значение:          0.00\n",
      "Среднее значение:              6431116.00\n",
      "Среднеквадратичное отклонение: 2592744189.40\n",
      "Первый квартиль:               201.97\n",
      "Медиана:                       1439.92\n",
      "Третий квартиль:               11480.81\n",
      "Максимальное значение:         8158609145856.00\n"
     ]
    },
    {
     "data": {
      "image/png": "[encoded data removed]",
      "text/plain": [
       "<Figure size 2000x600 with 1 Axes>"
      ]
     },
     "metadata": {},
     "output_type": "display_data"
    }
   ],
   "source": [
    "plot_boxplots(data=df, columns=[\"Amount Received\"])"
   ]
  },
  {
   "cell_type": "markdown",
   "metadata": {},
   "source": [
    "Распределение данных:\n",
    "1. Минимальное значение: 0.00\n",
    "2. Первый квартиль: 201.97 — это значение, ниже которого находится 25% данных.\n",
    "3. Медиана: 1439.92 — значение, делящее данные пополам.\n",
    "4. Третий квартиль: 11480.81 — значение, выше которого находится 25% данных.\n",
    "5. Максимальное значение: 8,158,609,145,856.00 — экстремально большое значение.\n",
    "6. Среднее значение: 6,431,116.00 — значительно больше медианы, что говорит о сильной положительной асимметрии (влияние выбросов).\n",
    "7. Стандартное отклонение: 2,592,744,189.40 — очень большое значение, указывающее на высокую дисперсию в данных.\n",
    "\n",
    "Итог:\n",
    "В выборке присутствуют очень большие выбросы"
   ]
  },
  {
   "cell_type": "markdown",
   "metadata": {},
   "source": [
    "Для более тщательного исследования создадим функцию для визуализации распределения категориального признака."
   ]
  },
  {
   "cell_type": "code",
   "execution_count": 99,
   "metadata": {},
   "outputs": [],
   "source": [
    "def plot_quant_distribution(data: DataFrame,\n",
    "                            column: str,\n",
    "                            num_bins: int = 200) -> None:\n",
    "    \"\"\"\n",
    "    Построение гистограммы для количественной переменной с \n",
    "    использованием PySpark и Seaborn.\n",
    "\n",
    "    Args:\n",
    "        data (DataFrame): DataFrame с данными.\n",
    "        column_name (str): Название колонки с количественной переменной.\n",
    "        num_bins (int): Количество бинов для гистограммы.\n",
    "\n",
    "    Returns:\n",
    "        None\n",
    "    \"\"\"\n",
    "    # Находим минимальное и максимальное значения колонки\n",
    "    min_value = data.agg({column: \"min\"}).collect()[0][0]\n",
    "    max_value = data.agg({column: \"max\"}).collect()[0][0]\n",
    "\n",
    "    # Размер бина\n",
    "    bin_size = (max_value - min_value) / num_bins\n",
    "\n",
    "    # Добавляем колонку с номером бина\n",
    "    data = data.withColumn(\n",
    "        \"bin\", \n",
    "        floor((col(column) - min_value) / bin_size)\n",
    "    )\n",
    "\n",
    "    # Группируем по номеру бина и считаем количество строк в каждом бине\n",
    "    bin_counts = data.groupBy(\"bin\").count()\n",
    "\n",
    "    # Преобразуем результат в Pandas DataFrame для построения гистограммы\n",
    "    bin_counts_pd = bin_counts.limit(1000).toPandas()\n",
    "    \n",
    "    # Создаем массив границ бинов\n",
    "    bin_edges = [min_value + i * bin_size for i in range(num_bins + 2)]\n",
    "    \n",
    "    # Преобразуем номера бинов в центры бинов\n",
    "    bin_centers = [\n",
    "        (bin_edges[i] + bin_edges[i + 1]) / 2 for i in range(num_bins + 1)\n",
    "    ]\n",
    "    \n",
    "    # Добавляем центры бинов в Pandas DataFrame\n",
    "    bin_counts_pd['bin_center'] = bin_counts_pd['bin'].apply(\n",
    "        lambda x: bin_centers[int(x)]\n",
    "    )\n",
    "    \n",
    "    # Построение гистограммы с использованием Seaborn\n",
    "    plt.figure(figsize=(20, 6))\n",
    "    sns.histplot(data=bin_counts_pd, x=\"bin_center\", \n",
    "                 weights=\"count\", kde=True, bins=num_bins + 1)\n",
    "    plt.xlabel(\"Value\")\n",
    "    plt.ylabel(\"Count\")\n",
    "    plt.title(f\"Распределение количественного признака \\\"{column}\\\"\")\n",
    "    plt.grid(True)\n",
    "    plt.show()"
   ]
  },
  {
   "cell_type": "code",
   "execution_count": 100,
   "metadata": {},
   "outputs": [
    {
     "name": "stderr",
     "output_type": "stream",
     "text": [
      "                                                                                \r"
     ]
    },
    {
     "data": {
      "image/png": "[encoded data removed]",
      "text/plain": [
       "<Figure size 2000x600 with 1 Axes>"
      ]
     },
     "metadata": {},
     "output_type": "display_data"
    }
   ],
   "source": [
    "plot_quant_distribution(data=df, column=\"Amount Received\")"
   ]
  },
  {
   "cell_type": "markdown",
   "metadata": {},
   "source": [
    "Видно, что почти все данные не превышают значения 500, но при этом наблюдается малое количество довольно сильных выбросов. Обрежем эти выбросы, установив для них максимальную границу."
   ]
  },
  {
   "cell_type": "code",
   "execution_count": 101,
   "metadata": {},
   "outputs": [],
   "source": [
    "df = df.withColumn(\n",
    "    \"Amount Received\",\n",
    "    when(col(\"Amount Received\") > 1000000.0, 1000000.0)\n",
    "        .otherwise(col(\"Amount Received\"))\n",
    ")"
   ]
  },
  {
   "cell_type": "code",
   "execution_count": 102,
   "metadata": {},
   "outputs": [
    {
     "name": "stderr",
     "output_type": "stream",
     "text": [
      "                                                                                \r"
     ]
    },
    {
     "data": {
      "image/png": "[encoded data removed]",
      "text/plain": [
       "<Figure size 2000x600 with 1 Axes>"
      ]
     },
     "metadata": {},
     "output_type": "display_data"
    }
   ],
   "source": [
    "plot_quant_distribution(data=df, column=\"Amount Received\")"
   ]
  },
  {
   "cell_type": "markdown",
   "metadata": {},
   "source": [
    "Теперь диаграмма более эффективно представляет данные в столбце."
   ]
  },
  {
   "cell_type": "code",
   "execution_count": 103,
   "metadata": {},
   "outputs": [
    {
     "name": "stdout",
     "output_type": "stream",
     "text": [
      "+---------+---------+-------+------------------+-----------+----------------+--------------+-------------+\n",
      "|Timestamp|From Bank|To Bank|   Amount Received|Amount Paid|Payment Currency|Payment Format|Is Laundering|\n",
      "+---------+---------+-------+------------------+-----------+----------------+--------------+-------------+\n",
      "|     NULL|  0037220|0143318|       67597.03125|   67597.03|            Yuan|   Credit Card|        false|\n",
      "|     NULL|  0037220|0143318|         1000000.0|  6639557.0|            Yuan|           ACH|        false|\n",
      "|     NULL|  0018184|0018184| 64.12000274658203|      64.12|            Yuan|  Reinvestment|        false|\n",
      "|     NULL|  0117909|0040526|         1000000.0|  2685393.2|            Yuan|        Cheque|        false|\n",
      "|     NULL|  0117909|0040526|     183521.265625|  183521.27|            Yuan|   Credit Card|        false|\n",
      "|     NULL|  0117909|0040526|         1000000.0|  2184496.8|            Yuan|           ACH|        false|\n",
      "|     NULL|      012|0139273|1080.5899658203125|    1080.59|            Yuan|        Cheque|        false|\n",
      "|     NULL|      012|0139273|            337.25|     337.25|            Yuan|          Cash|        false|\n",
      "|     NULL|      012|0139273| 665.5700073242188|     665.57|            Yuan|           ACH|        false|\n",
      "|     NULL|  0043815|0043815| 145.4499969482422|     145.45|            Yuan|  Reinvestment|        false|\n",
      "|     NULL|  0235304|0235304|  11396.0498046875|   11396.05|            Yuan|  Reinvestment|        false|\n",
      "|     NULL|      021|    021| 36.09000015258789|      36.09|            Yuan|  Reinvestment|        false|\n",
      "|     NULL|  0138848|0138848|  14205.2998046875|    14205.3|            Yuan|  Reinvestment|        false|\n",
      "|     NULL|  0119259|0139429|    109140.5078125|  109140.51|            Yuan|        Cheque|        false|\n",
      "|     NULL|  0119259|0139429|      43683.578125|   43683.58|            Yuan|   Credit Card|        false|\n",
      "|     NULL|  0119259|0139429|       66562.28125|   66562.28|            Yuan|          Cash|        false|\n",
      "|     NULL|  0119259|0139429|  7037.02001953125|    7037.02|            Yuan|          Wire|        false|\n",
      "|     NULL|  0237303|0034338| 830.5900268554688|     830.59|            Yuan|        Cheque|        false|\n",
      "|     NULL|  0237303|0034338|   798.02001953125|     798.02|            Yuan|   Credit Card|        false|\n",
      "|     NULL|  0237303|0034338| 357.6099853515625|     357.61|            Yuan|           ACH|        false|\n",
      "+---------+---------+-------+------------------+-----------+----------------+--------------+-------------+\n",
      "only showing top 20 rows\n",
      "\n"
     ]
    }
   ],
   "source": [
    "df.show()"
   ]
  },
  {
   "cell_type": "markdown",
   "metadata": {},
   "source": [
    "#### Анализ столбца `Timestamp`"
   ]
  },
  {
   "cell_type": "markdown",
   "metadata": {},
   "source": [
    "Введем функцию, определяющую количество NULL-значений в столбце."
   ]
  },
  {
   "cell_type": "code",
   "execution_count": 130,
   "metadata": {},
   "outputs": [],
   "source": [
    "def count_nulls(data: DataFrame,\n",
    "                column_name: str) -> None:\n",
    "    \"\"\"\n",
    "    Подсчет количества null и not null значений в указанном столбце.\n",
    "\n",
    "    Args:\n",
    "        data (DataFrame): DataFrame, содержащий данные.\n",
    "        column_name (str): Имя столбца для подсчета null и not null значений.\n",
    "    \n",
    "    Returns:\n",
    "        None\n",
    "    \"\"\"\n",
    "    # Подсчет количества null значений в указанном столбце\n",
    "    null_counts = data.select(\n",
    "        sum(col(column_name).isNull().cast(\"int\"))\n",
    "    ).collect()[0][0]\n",
    "\n",
    "    # Подсчет количества not null значений в указанном столбце\n",
    "    not_null_counts = data.select(\n",
    "        sum(col(column_name).isNotNull().cast(\"int\"))\n",
    "    ).collect()[0][0]\n",
    "\n",
    "    # Вывод результатов\n",
    "    print(f\"Число колонок с NULL: {null_counts} \"\n",
    "          f\"({100 * null_counts / (null_counts + not_null_counts):.2f}%)\")"
   ]
  },
  {
   "cell_type": "code",
   "execution_count": 131,
   "metadata": {},
   "outputs": [
    {
     "name": "stdout",
     "output_type": "stream",
     "text": [
      "Число колонок с NULL: 31898238 (100.00%)\n"
     ]
    }
   ],
   "source": [
    "count_nulls(data=df, column_name=\"Timestamp\")"
   ]
  },
  {
   "cell_type": "code",
   "execution_count": 123,
   "metadata": {},
   "outputs": [
    {
     "name": "stdout",
     "output_type": "stream",
     "text": [
      "Число колонок с NULL: 31898238 (100.00%)\n"
     ]
    }
   ],
   "source": [
    "df = df.fillna({\"Timestamp\": \"Unknown\"})\n",
    "count_nulls(data=df, column_name=\"Timestamp\")"
   ]
  },
  {
   "cell_type": "code",
   "execution_count": 124,
   "metadata": {},
   "outputs": [
    {
     "name": "stdout",
     "output_type": "stream",
     "text": [
      "root\n",
      " |-- Timestamp: timestamp (nullable = true)\n",
      " |-- From Bank: string (nullable = true)\n",
      " |-- To Bank: string (nullable = true)\n",
      " |-- Amount Received: double (nullable = true)\n",
      " |-- Amount Paid: float (nullable = true)\n",
      " |-- Payment Currency: string (nullable = true)\n",
      " |-- Payment Format: string (nullable = true)\n",
      " |-- Is Laundering: boolean (nullable = true)\n",
      "\n"
     ]
    }
   ],
   "source": [
    "# Вывод схемы DataFrame\n",
    "df.printSchema()\n"
   ]
  },
  {
   "cell_type": "markdown",
   "metadata": {},
   "source": [
    "#### Анализ столбца `Amount Paid`\n",
    "\n",
    "В соответствии с описанием и содержанием датасета логично считать данный признак **количественным**. Проверим его на наличие пропущенных значений."
   ]
  },
  {
   "cell_type": "code",
   "execution_count": 132,
   "metadata": {},
   "outputs": [
    {
     "name": "stdout",
     "output_type": "stream",
     "text": [
      "Число колонок с NULL: 0 (0.00%)\n"
     ]
    }
   ],
   "source": [
    "count_nulls(data=df, column_name=\"Amount Paid\")"
   ]
  },
  {
   "cell_type": "markdown",
   "metadata": {},
   "source": [
    "Видно, что пропуски в данном столбце отсутствуют.\n",
    "\n",
    "Создадим функцию, позволяющую рассчитывать статистические показатели данных в столбцах и строить диаграмму \"ящик с усами\" для оценки наличия выбросов."
   ]
  },
  {
   "cell_type": "code",
   "execution_count": 133,
   "metadata": {},
   "outputs": [],
   "source": [
    "def plot_boxplots(data: DataFrame,\n",
    "                  columns: list[str],\n",
    "                  sample_fraction: float = 0.1) -> None:\n",
    "    \"\"\"\n",
    "    Построение boxplot для нескольких столбцов в PySpark DataFrame.\n",
    "\n",
    "    Args:\n",
    "        data (DataFrame): DataFrame, содержащий данные.\n",
    "        columns (list of str): Список имен столбцов для построения boxplot.\n",
    "        sample_fraction (float): Доля данных для семплирования выбросов.\n",
    "    \n",
    "    Returns:\n",
    "        None\n",
    "    \"\"\"\n",
    "    box_data = []\n",
    "\n",
    "    for column in columns:\n",
    "        # Вычисление квантилей\n",
    "        quantiles = data.approxQuantile(column, [0.25, 0.5, 0.75], 0.01)\n",
    "        q1, median, q3 = quantiles\n",
    "\n",
    "        # Вычисление IQR и границ усов\n",
    "        iqr = q3 - q1\n",
    "        lower_bound = q1 - 1.5 * iqr\n",
    "        upper_bound = q3 + 1.5 * iqr\n",
    "\n",
    "        # Фильтрация выбросов\n",
    "        filtered_df = data.filter((col(column) >= lower_bound) & (col(column) <= upper_bound))\n",
    "        outliers_df = data.filter((col(column) < lower_bound) | (col(column) > upper_bound))\n",
    "\n",
    "        # Вычисление минимального и максимального значений\n",
    "        min_value = data.agg({column: \"min\"}).collect()[0][0]\n",
    "        mean_value = data.agg({column: \"mean\"}).collect()[0][0]\n",
    "        std_value = data.agg({column: \"std\"}).collect()[0][0]\n",
    "        max_value = data.agg({column: \"max\"}).collect()[0][0]\n",
    "\n",
    "        # Ограничение усов минимальным и максимальным значениями\n",
    "        lower_bound = max(lower_bound, min_value)\n",
    "        upper_bound = min(upper_bound, max_value)\n",
    "\n",
    "        # Семплирование выбросов\n",
    "        outliers = []\n",
    "        if not outliers_df.isEmpty():\n",
    "            sampled_outliers_df = outliers_df.sample(sample_fraction)\n",
    "            outliers = (\n",
    "                sampled_outliers_df\n",
    "                .select(column)\n",
    "                .limit(1000)\n",
    "                .collect()\n",
    "            )\n",
    "            outliers = [row[column] for row in outliers]\n",
    "            \n",
    "            # Добавление минимального и максимального значений, если они \n",
    "            # относятся к выбросам и не присутствуют в семпле\n",
    "            if min_value < lower_bound and min_value not in outliers:\n",
    "                outliers.append(min_value)\n",
    "            if max_value > upper_bound and max_value not in outliers:\n",
    "                outliers.append(max_value)\n",
    "\n",
    "        # Подготовка данных для axes.bxp\n",
    "        box_data.append({\n",
    "            'whislo': lower_bound,  # Нижняя граница усов\n",
    "            'q1': q1,               # Первый квартиль\n",
    "            'med': median,          # Медиана\n",
    "            'q3': q3,               # Третий квартиль\n",
    "            'whishi': upper_bound,  # Верхняя граница усов\n",
    "            'fliers': outliers      # Выбросы\n",
    "        })\n",
    "        \n",
    "    # Вывод статистических характеристик\n",
    "    print(f\"Минимальное значение:          {min_value:.2f}\")\n",
    "    print(f\"Среднее значение:              {mean_value:.2f}\")\n",
    "    print(f\"Среднеквадратичное отклонение: {std_value:.2f}\")\n",
    "    print(f\"Первый квартиль:               {q1:.2f}\")\n",
    "    print(f\"Медиана:                       {median:.2f}\")\n",
    "    print(f\"Третий квартиль:               {q3:.2f}\")\n",
    "    print(f\"Максимальное значение:         {max_value:.2f}\")\n",
    "\n",
    "    # Построение boxplot\n",
    "    fig, ax = plt.subplots(figsize=(20, 6))\n",
    "    ax.bxp(box_data, \n",
    "           vert=False, \n",
    "           positions=range(1, len(columns) + 1), widths=0.5)\n",
    "    ax.set_yticks(range(1, len(columns) + 1))\n",
    "    ax.set_yticklabels(columns)\n",
    "    ax.set_xlabel('Value')\n",
    "    ax.set_title('Boxplots')\n",
    "    ax.grid(True)\n",
    "    plt.show()"
   ]
  },
  {
   "cell_type": "code",
   "execution_count": 134,
   "metadata": {},
   "outputs": [
    {
     "name": "stderr",
     "output_type": "stream",
     "text": [
      "                                                                                \r"
     ]
    },
    {
     "name": "stdout",
     "output_type": "stream",
     "text": [
      "Минимальное значение:          0.00\n",
      "Среднее значение:              4417550.92\n",
      "Среднеквадратичное отклонение: 1848313452.76\n",
      "Первый квартиль:               203.30\n",
      "Медиана:                       1440.48\n",
      "Третий квартиль:               11328.19\n",
      "Максимальное значение:         8158609145856.00\n"
     ]
    },
    {
     "data": {
      "image/png": "[encoded data removed]",
      "text/plain": [
       "<Figure size 2000x600 with 1 Axes>"
      ]
     },
     "metadata": {},
     "output_type": "display_data"
    }
   ],
   "source": [
    "plot_boxplots(data=df, columns=[\"Amount Paid\"])"
   ]
  },
  {
   "cell_type": "markdown",
   "metadata": {},
   "source": [
    "Распределение данных:\n",
    "1. Минимальное значение: 0.00\n",
    "2. Первый квартиль: 203.30 — это значение, ниже которого находится 25% данных.\n",
    "3. Медиана: 1440.48 — значение, делящее данные пополам.\n",
    "4. Третий квартиль: 11328.19 — значение, выше которого находится 25% данных.\n",
    "5. Максимальное значение: 8158609145856.00 — экстремально большое значение.\n",
    "6. Среднее значение: 6,431,116.00 — значительно больше медианы, что говорит о сильной положительной асимметрии (влияние выбросов).\n",
    "7. Стандартное отклонение: 2,592,744,189.40 — очень большое значение, указывающее на высокую дисперсию в данных.\n",
    "\n",
    "Итог:\n",
    "В выборке присутствуют очень большие выбросы"
   ]
  },
  {
   "cell_type": "markdown",
   "metadata": {},
   "source": [
    "Для более тщательного исследования создадим функцию для визуализации распределения категориального признака."
   ]
  },
  {
   "cell_type": "code",
   "execution_count": 135,
   "metadata": {},
   "outputs": [],
   "source": [
    "def plot_quant_distribution(data: DataFrame,\n",
    "                            column: str,\n",
    "                            num_bins: int = 200) -> None:\n",
    "    \"\"\"\n",
    "    Построение гистограммы для количественной переменной с \n",
    "    использованием PySpark и Seaborn.\n",
    "\n",
    "    Args:\n",
    "        data (DataFrame): DataFrame с данными.\n",
    "        column_name (str): Название колонки с количественной переменной.\n",
    "        num_bins (int): Количество бинов для гистограммы.\n",
    "\n",
    "    Returns:\n",
    "        None\n",
    "    \"\"\"\n",
    "    # Находим минимальное и максимальное значения колонки\n",
    "    min_value = data.agg({column: \"min\"}).collect()[0][0]\n",
    "    max_value = data.agg({column: \"max\"}).collect()[0][0]\n",
    "\n",
    "    # Размер бина\n",
    "    bin_size = (max_value - min_value) / num_bins\n",
    "\n",
    "    # Добавляем колонку с номером бина\n",
    "    data = data.withColumn(\n",
    "        \"bin\", \n",
    "        floor((col(column) - min_value) / bin_size)\n",
    "    )\n",
    "\n",
    "    # Группируем по номеру бина и считаем количество строк в каждом бине\n",
    "    bin_counts = data.groupBy(\"bin\").count()\n",
    "\n",
    "    # Преобразуем результат в Pandas DataFrame для построения гистограммы\n",
    "    bin_counts_pd = bin_counts.limit(1000).toPandas()\n",
    "    \n",
    "    # Создаем массив границ бинов\n",
    "    bin_edges = [min_value + i * bin_size for i in range(num_bins + 2)]\n",
    "    \n",
    "    # Преобразуем номера бинов в центры бинов\n",
    "    bin_centers = [\n",
    "        (bin_edges[i] + bin_edges[i + 1]) / 2 for i in range(num_bins + 1)\n",
    "    ]\n",
    "    \n",
    "    # Добавляем центры бинов в Pandas DataFrame\n",
    "    bin_counts_pd['bin_center'] = bin_counts_pd['bin'].apply(\n",
    "        lambda x: bin_centers[int(x)]\n",
    "    )\n",
    "    \n",
    "    # Построение гистограммы с использованием Seaborn\n",
    "    plt.figure(figsize=(20, 6))\n",
    "    sns.histplot(data=bin_counts_pd, x=\"bin_center\", \n",
    "                 weights=\"count\", kde=True, bins=num_bins + 1)\n",
    "    plt.xlabel(\"Value\")\n",
    "    plt.ylabel(\"Count\")\n",
    "    plt.title(f\"Распределение количественного признака \\\"{column}\\\"\")\n",
    "    plt.grid(True)\n",
    "    plt.show()"
   ]
  },
  {
   "cell_type": "code",
   "execution_count": 136,
   "metadata": {},
   "outputs": [
    {
     "name": "stderr",
     "output_type": "stream",
     "text": [
      "                                                                                \r"
     ]
    },
    {
     "data": {
      "image/png": "[encoded data removed]",
      "text/plain": [
       "<Figure size 2000x600 with 1 Axes>"
      ]
     },
     "metadata": {},
     "output_type": "display_data"
    }
   ],
   "source": [
    "plot_quant_distribution(data=df, column=\"Amount Paid\")"
   ]
  },
  {
   "cell_type": "markdown",
   "metadata": {},
   "source": []
  },
  {
   "cell_type": "code",
   "execution_count": 137,
   "metadata": {},
   "outputs": [],
   "source": [
    "df = df.withColumn(\n",
    "    \"Amount Paid\",\n",
    "    when(col(\"Amount Paid\") > 1000000.0, 1000000.0)\n",
    "        .otherwise(col(\"Amount Paid\"))\n",
    ")"
   ]
  },
  {
   "cell_type": "code",
   "execution_count": 138,
   "metadata": {},
   "outputs": [
    {
     "name": "stderr",
     "output_type": "stream",
     "text": [
      "                                                                                \r"
     ]
    },
    {
     "data": {
      "image/png": "[encoded data removed]",
      "text/plain": [
       "<Figure size 2000x600 with 1 Axes>"
      ]
     },
     "metadata": {},
     "output_type": "display_data"
    }
   ],
   "source": [
    "plot_quant_distribution(data=df, column=\"Amount Paid\")"
   ]
  },
  {
   "cell_type": "code",
   "execution_count": 139,
   "metadata": {},
   "outputs": [
    {
     "name": "stdout",
     "output_type": "stream",
     "text": [
      "+---------+---------+-------+------------------+------------------+----------------+--------------+-------------+\n",
      "|Timestamp|From Bank|To Bank|   Amount Received|       Amount Paid|Payment Currency|Payment Format|Is Laundering|\n",
      "+---------+---------+-------+------------------+------------------+----------------+--------------+-------------+\n",
      "|     NULL|  0037220|0143318|       67597.03125|       67597.03125|            Yuan|   Credit Card|        false|\n",
      "|     NULL|  0037220|0143318|         1000000.0|         1000000.0|            Yuan|           ACH|        false|\n",
      "|     NULL|  0018184|0018184| 64.12000274658203| 64.12000274658203|            Yuan|  Reinvestment|        false|\n",
      "|     NULL|  0117909|0040526|         1000000.0|         1000000.0|            Yuan|        Cheque|        false|\n",
      "|     NULL|  0117909|0040526|     183521.265625|     183521.265625|            Yuan|   Credit Card|        false|\n",
      "|     NULL|  0117909|0040526|         1000000.0|         1000000.0|            Yuan|           ACH|        false|\n",
      "|     NULL|      012|0139273|1080.5899658203125|1080.5899658203125|            Yuan|        Cheque|        false|\n",
      "|     NULL|      012|0139273|            337.25|            337.25|            Yuan|          Cash|        false|\n",
      "|     NULL|      012|0139273| 665.5700073242188| 665.5700073242188|            Yuan|           ACH|        false|\n",
      "|     NULL|  0043815|0043815| 145.4499969482422| 145.4499969482422|            Yuan|  Reinvestment|        false|\n",
      "|     NULL|  0235304|0235304|  11396.0498046875|  11396.0498046875|            Yuan|  Reinvestment|        false|\n",
      "|     NULL|      021|    021| 36.09000015258789| 36.09000015258789|            Yuan|  Reinvestment|        false|\n",
      "|     NULL|  0138848|0138848|  14205.2998046875|  14205.2998046875|            Yuan|  Reinvestment|        false|\n",
      "|     NULL|  0119259|0139429|    109140.5078125|    109140.5078125|            Yuan|        Cheque|        false|\n",
      "|     NULL|  0119259|0139429|      43683.578125|      43683.578125|            Yuan|   Credit Card|        false|\n",
      "|     NULL|  0119259|0139429|       66562.28125|       66562.28125|            Yuan|          Cash|        false|\n",
      "|     NULL|  0119259|0139429|  7037.02001953125|  7037.02001953125|            Yuan|          Wire|        false|\n",
      "|     NULL|  0237303|0034338| 830.5900268554688| 830.5900268554688|            Yuan|        Cheque|        false|\n",
      "|     NULL|  0237303|0034338|   798.02001953125|   798.02001953125|            Yuan|   Credit Card|        false|\n",
      "|     NULL|  0237303|0034338| 357.6099853515625| 357.6099853515625|            Yuan|           ACH|        false|\n",
      "+---------+---------+-------+------------------+------------------+----------------+--------------+-------------+\n",
      "only showing top 20 rows\n",
      "\n"
     ]
    }
   ],
   "source": [
    "df.show()"
   ]
  },
  {
   "cell_type": "code",
   "execution_count": 160,
   "metadata": {},
   "outputs": [
    {
     "name": "stdout",
     "output_type": "stream",
     "text": [
      "+---------+---------+-------+------------------+------------------+----------------+--------------+-----------+\n",
      "|Timestamp|From Bank|To Bank|   Amount Received|       Amount Paid|Payment Currency|Payment Format|is_any_cert|\n",
      "+---------+---------+-------+------------------+------------------+----------------+--------------+-----------+\n",
      "|     NULL|  0037220|0143318|       67597.03125|       67597.03125|            Yuan|   Credit Card|      false|\n",
      "|     NULL|  0037220|0143318|         1000000.0|         1000000.0|            Yuan|           ACH|      false|\n",
      "|     NULL|  0018184|0018184| 64.12000274658203| 64.12000274658203|            Yuan|  Reinvestment|      false|\n",
      "|     NULL|  0117909|0040526|         1000000.0|         1000000.0|            Yuan|        Cheque|      false|\n",
      "|     NULL|  0117909|0040526|     183521.265625|     183521.265625|            Yuan|   Credit Card|      false|\n",
      "|     NULL|  0117909|0040526|         1000000.0|         1000000.0|            Yuan|           ACH|      false|\n",
      "|     NULL|      012|0139273|1080.5899658203125|1080.5899658203125|            Yuan|        Cheque|      false|\n",
      "|     NULL|      012|0139273|            337.25|            337.25|            Yuan|          Cash|      false|\n",
      "|     NULL|      012|0139273| 665.5700073242188| 665.5700073242188|            Yuan|           ACH|      false|\n",
      "|     NULL|  0043815|0043815| 145.4499969482422| 145.4499969482422|            Yuan|  Reinvestment|      false|\n",
      "|     NULL|  0235304|0235304|  11396.0498046875|  11396.0498046875|            Yuan|  Reinvestment|      false|\n",
      "|     NULL|      021|    021| 36.09000015258789| 36.09000015258789|            Yuan|  Reinvestment|      false|\n",
      "|     NULL|  0138848|0138848|  14205.2998046875|  14205.2998046875|            Yuan|  Reinvestment|      false|\n",
      "|     NULL|  0119259|0139429|    109140.5078125|    109140.5078125|            Yuan|        Cheque|      false|\n",
      "|     NULL|  0119259|0139429|      43683.578125|      43683.578125|            Yuan|   Credit Card|      false|\n",
      "|     NULL|  0119259|0139429|       66562.28125|       66562.28125|            Yuan|          Cash|      false|\n",
      "|     NULL|  0119259|0139429|  7037.02001953125|  7037.02001953125|            Yuan|          Wire|      false|\n",
      "|     NULL|  0237303|0034338| 830.5900268554688| 830.5900268554688|            Yuan|        Cheque|      false|\n",
      "|     NULL|  0237303|0034338|   798.02001953125|   798.02001953125|            Yuan|   Credit Card|      false|\n",
      "|     NULL|  0237303|0034338| 357.6099853515625| 357.6099853515625|            Yuan|           ACH|      false|\n",
      "+---------+---------+-------+------------------+------------------+----------------+--------------+-----------+\n",
      "only showing top 20 rows\n",
      "\n"
     ]
    }
   ],
   "source": [
    "df.show()"
   ]
  },
  {
   "cell_type": "markdown",
   "metadata": {},
   "source": [
    "#### Анализ столбцов `Is Laundering`\n",
    "\n",
    "Данные признаки являются **бинарными** и имеют схожую интерпретацию. Заменим их одним признаком, который принимает значение `True`, если хотя бы один из вышеупомянитых признаков содержит истинное значение."
   ]
  },
  {
   "cell_type": "code",
   "execution_count": 161,
   "metadata": {},
   "outputs": [],
   "source": [
    "df = df.withColumn(\n",
    "    \"Is Laundering\", \n",
    "    col(\"is_any_cert\")\n",
    ").drop(\"is_any_cert\")\n"
   ]
  },
  {
   "cell_type": "code",
   "execution_count": 162,
   "metadata": {},
   "outputs": [
    {
     "name": "stdout",
     "output_type": "stream",
     "text": [
      "+---------+---------+-------+------------------+------------------+----------------+--------------+-------------+\n",
      "|Timestamp|From Bank|To Bank|   Amount Received|       Amount Paid|Payment Currency|Payment Format|Is Laundering|\n",
      "+---------+---------+-------+------------------+------------------+----------------+--------------+-------------+\n",
      "|     NULL|  0037220|0143318|       67597.03125|       67597.03125|            Yuan|   Credit Card|        false|\n",
      "|     NULL|  0037220|0143318|         1000000.0|         1000000.0|            Yuan|           ACH|        false|\n",
      "|     NULL|  0018184|0018184| 64.12000274658203| 64.12000274658203|            Yuan|  Reinvestment|        false|\n",
      "|     NULL|  0117909|0040526|         1000000.0|         1000000.0|            Yuan|        Cheque|        false|\n",
      "|     NULL|  0117909|0040526|     183521.265625|     183521.265625|            Yuan|   Credit Card|        false|\n",
      "|     NULL|  0117909|0040526|         1000000.0|         1000000.0|            Yuan|           ACH|        false|\n",
      "|     NULL|      012|0139273|1080.5899658203125|1080.5899658203125|            Yuan|        Cheque|        false|\n",
      "|     NULL|      012|0139273|            337.25|            337.25|            Yuan|          Cash|        false|\n",
      "|     NULL|      012|0139273| 665.5700073242188| 665.5700073242188|            Yuan|           ACH|        false|\n",
      "|     NULL|  0043815|0043815| 145.4499969482422| 145.4499969482422|            Yuan|  Reinvestment|        false|\n",
      "|     NULL|  0235304|0235304|  11396.0498046875|  11396.0498046875|            Yuan|  Reinvestment|        false|\n",
      "|     NULL|      021|    021| 36.09000015258789| 36.09000015258789|            Yuan|  Reinvestment|        false|\n",
      "|     NULL|  0138848|0138848|  14205.2998046875|  14205.2998046875|            Yuan|  Reinvestment|        false|\n",
      "|     NULL|  0119259|0139429|    109140.5078125|    109140.5078125|            Yuan|        Cheque|        false|\n",
      "|     NULL|  0119259|0139429|      43683.578125|      43683.578125|            Yuan|   Credit Card|        false|\n",
      "|     NULL|  0119259|0139429|       66562.28125|       66562.28125|            Yuan|          Cash|        false|\n",
      "|     NULL|  0119259|0139429|  7037.02001953125|  7037.02001953125|            Yuan|          Wire|        false|\n",
      "|     NULL|  0237303|0034338| 830.5900268554688| 830.5900268554688|            Yuan|        Cheque|        false|\n",
      "|     NULL|  0237303|0034338|   798.02001953125|   798.02001953125|            Yuan|   Credit Card|        false|\n",
      "|     NULL|  0237303|0034338| 357.6099853515625| 357.6099853515625|            Yuan|           ACH|        false|\n",
      "+---------+---------+-------+------------------+------------------+----------------+--------------+-------------+\n",
      "only showing top 20 rows\n",
      "\n"
     ]
    }
   ],
   "source": [
    "df.show()"
   ]
  },
  {
   "cell_type": "code",
   "execution_count": 164,
   "metadata": {},
   "outputs": [
    {
     "name": "stdout",
     "output_type": "stream",
     "text": [
      "Число колонок с NULL: 0 (0.00%)\n"
     ]
    }
   ],
   "source": [
    "count_nulls(data=df, column_name=\"Is Laundering\")"
   ]
  },
  {
   "cell_type": "markdown",
   "metadata": {},
   "source": [
    "Пропуски отсутствуют."
   ]
  },
  {
   "cell_type": "code",
   "execution_count": 166,
   "metadata": {},
   "outputs": [
    {
     "name": "stdout",
     "output_type": "stream",
     "text": [
      "Количество категорий признака Is Laundering: 2\n"
     ]
    },
    {
     "name": "stderr",
     "output_type": "stream",
     "text": [
      "                                                                                \r"
     ]
    },
    {
     "data": {
      "image/png": "[encoded data removed]",
      "text/plain": [
       "<Figure size 1000x600 with 1 Axes>"
      ]
     },
     "metadata": {},
     "output_type": "display_data"
    }
   ],
   "source": [
    "plot_cat_distribution(data=df, column_name=\"Is Laundering\")"
   ]
  },
  {
   "cell_type": "markdown",
   "metadata": {},
   "source": [
    "#### Анализ признака `major_options`"
   ]
  },
  {
   "cell_type": "code",
   "execution_count": 168,
   "metadata": {},
   "outputs": [
    {
     "name": "stdout",
     "output_type": "stream",
     "text": [
      "Число колонок с NULL: 0 (0.00%)\n"
     ]
    }
   ],
   "source": [
    "count_nulls(data=df, column_name=\"Is Laundering\")"
   ]
  },
  {
   "cell_type": "markdown",
   "metadata": {},
   "source": [
    "Пропуски есть, но их немного. Заменим их пустыми списками."
   ]
  },
  {
   "cell_type": "code",
   "execution_count": 169,
   "metadata": {},
   "outputs": [
    {
     "ename": "AnalysisException",
     "evalue": "[DATATYPE_MISMATCH.DATA_DIFF_TYPES] Cannot resolve \"CASE WHEN (Is Laundering IS NULL) THEN array() ELSE Is Laundering END\" due to data type mismatch: Input to `casewhen` should all be the same type, but it's [\"ARRAY<VOID>\", \"BOOLEAN\"].;\n'Project [Timestamp#2598, From Bank#1316, To Bank#1317, Amount Received#2086, Amount Paid#2875, Payment Currency#1320, Payment Format#1321, CASE WHEN isnull(Is Laundering#3187) THEN array() ELSE Is Laundering#3187 END AS Is Laundering#3301]\n+- Project [Timestamp#2598, From Bank#1316, To Bank#1317, Amount Received#2086, Amount Paid#2875, Payment Currency#1320, Payment Format#1321, Is Laundering#3187]\n   +- Project [Timestamp#2598, From Bank#1316, To Bank#1317, Amount Received#2086, Amount Paid#2875, Payment Currency#1320, Payment Format#1321, is_any_cert#3080, is_any_cert#3080 AS Is Laundering#3187]\n      +- Project [Timestamp#2598, From Bank#1316, To Bank#1317, Amount Received#2086, Amount Paid#2875, Payment Currency#1320, Payment Format#1321, coalesce(is_any_cert#2983, cast(false as boolean)) AS is_any_cert#3080]\n         +- Project [Timestamp#2598, From Bank#1316, To Bank#1317, Amount Received#2086, Amount Paid#2875, Payment Currency#1320, Payment Format#1321, is_any_cert#2983]\n            +- Project [Timestamp#2598, From Bank#1316, To Bank#1317, Amount Received#2086, Amount Paid#2875, Payment Currency#1320, Payment Format#1321, Is Laundering#1322, Is Laundering#1322 AS is_any_cert#2983]\n               +- Project [Timestamp#2598, From Bank#1316, To Bank#1317, Amount Received#2086, CASE WHEN (cast(Amount Paid#1319 as double) > 1000000.0) THEN 1000000.0 ELSE cast(Amount Paid#1319 as double) END AS Amount Paid#2875, Payment Currency#1320, Payment Format#1321, Is Laundering#1322]\n                  +- Project [coalesce(Timestamp#2537, cast(Unknown as timestamp)) AS Timestamp#2598, From Bank#1316, To Bank#1317, Amount Received#2086, Amount Paid#1319, Payment Currency#1320, Payment Format#1321, Is Laundering#1322]\n                     +- Project [coalesce(Timestamp#2457, cast(Unknown as timestamp)) AS Timestamp#2537, From Bank#1316, To Bank#1317, Amount Received#2086, Amount Paid#1319, Payment Currency#1320, Payment Format#1321, Is Laundering#1322]\n                        +- Project [to_timestamp(Timestamp#2448, Some(yyyy/MM/dd HH:mm), TimestampType, Some(Europe/Moscow), false) AS Timestamp#2457, From Bank#1316, To Bank#1317, Amount Received#2086, Amount Paid#1319, Payment Currency#1320, Payment Format#1321, Is Laundering#1322]\n                           +- Project [CASE WHEN ((Timestamp#2404 = cast( as timestamp)) OR (Timestamp#2404 = cast(NULL as timestamp))) THEN cast(null as timestamp) ELSE Timestamp#2404 END AS Timestamp#2448, From Bank#1316, To Bank#1317, Amount Received#2086, Amount Paid#1319, Payment Currency#1320, Payment Format#1321, Is Laundering#1322]\n                              +- Project [to_timestamp(Timestamp#2395, Some(yyyy/MM/dd HH:mm), TimestampType, Some(Europe/Moscow), false) AS Timestamp#2404, From Bank#1316, To Bank#1317, Amount Received#2086, Amount Paid#1319, Payment Currency#1320, Payment Format#1321, Is Laundering#1322]\n                                 +- Project [CASE WHEN ((Timestamp#2351 = cast( as timestamp)) OR (Timestamp#2351 = cast(NULL as timestamp))) THEN cast(null as timestamp) ELSE Timestamp#2351 END AS Timestamp#2395, From Bank#1316, To Bank#1317, Amount Received#2086, Amount Paid#1319, Payment Currency#1320, Payment Format#1321, Is Laundering#1322]\n                                    +- Project [to_timestamp(Timestamp#2342, Some(yyyy-MM-dd HH:mm:ss), TimestampType, Some(Europe/Moscow), false) AS Timestamp#2351, From Bank#1316, To Bank#1317, Amount Received#2086, Amount Paid#1319, Payment Currency#1320, Payment Format#1321, Is Laundering#1322]\n                                       +- Project [CASE WHEN ((Timestamp#2298 = cast( as timestamp)) OR (Timestamp#2298 = cast(NULL as timestamp))) THEN cast(null as timestamp) ELSE Timestamp#2298 END AS Timestamp#2342, From Bank#1316, To Bank#1317, Amount Received#2086, Amount Paid#1319, Payment Currency#1320, Payment Format#1321, Is Laundering#1322]\n                                          +- Project [to_timestamp(Timestamp#2289, Some(yyyy-MM-dd HH:mm:ss), TimestampType, Some(Europe/Moscow), false) AS Timestamp#2298, From Bank#1316, To Bank#1317, Amount Received#2086, Amount Paid#1319, Payment Currency#1320, Payment Format#1321, Is Laundering#1322]\n                                             +- Project [CASE WHEN ((Timestamp#2236 = cast( as timestamp)) OR (Timestamp#2236 = cast(NULL as timestamp))) THEN cast(null as timestamp) ELSE Timestamp#2236 END AS Timestamp#2289, From Bank#1316, To Bank#1317, Amount Received#2086, Amount Paid#1319, Payment Currency#1320, Payment Format#1321, Is Laundering#1322]\n                                                +- Project [coalesce(Timestamp#1315, cast(Unknown as timestamp)) AS Timestamp#2236, From Bank#1316, To Bank#1317, Amount Received#2086, Amount Paid#1319, Payment Currency#1320, Payment Format#1321, Is Laundering#1322]\n                                                   +- Project [Timestamp#1315, From Bank#1316, To Bank#1317, CASE WHEN (cast(Amount Received#1318 as double) > 1000000.0) THEN 1000000.0 ELSE cast(Amount Received#1318 as double) END AS Amount Received#2086, Amount Paid#1319, Payment Currency#1320, Payment Format#1321, Is Laundering#1322]\n                                                      +- SubqueryAlias spark_catalog.Khripunov_database.sobd_lab1_table2\n                                                         +- RelationV2[Timestamp#1315, From Bank#1316, To Bank#1317, Amount Received#1318, Amount Paid#1319, Payment Currency#1320, Payment Format#1321, Is Laundering#1322] spark_catalog.Khripunov_database.sobd_lab1_table2 spark_catalog.Khripunov_database.sobd_lab1_table2\n",
     "output_type": "error",
     "traceback": [
      "\u001b[0;31m---------------------------------------------------------------------------\u001b[0m",
      "\u001b[0;31mAnalysisException\u001b[0m                         Traceback (most recent call last)",
      "Cell \u001b[0;32mIn[169], line 1\u001b[0m\n\u001b[0;32m----> 1\u001b[0m df \u001b[38;5;241m=\u001b[39m \u001b[43mdf\u001b[49m\u001b[38;5;241;43m.\u001b[39;49m\u001b[43mwithColumn\u001b[49m\u001b[43m(\u001b[49m\n\u001b[1;32m      2\u001b[0m \u001b[43m    \u001b[49m\u001b[38;5;124;43m\"\u001b[39;49m\u001b[38;5;124;43mIs Laundering\u001b[39;49m\u001b[38;5;124;43m\"\u001b[39;49m\u001b[43m,\u001b[49m\u001b[43m \u001b[49m\n\u001b[1;32m      3\u001b[0m \u001b[43m    \u001b[49m\u001b[43mwhen\u001b[49m\u001b[43m(\u001b[49m\n\u001b[1;32m      4\u001b[0m \u001b[43m        \u001b[49m\u001b[43mcol\u001b[49m\u001b[43m(\u001b[49m\u001b[38;5;124;43m\"\u001b[39;49m\u001b[38;5;124;43mIs Laundering\u001b[39;49m\u001b[38;5;124;43m\"\u001b[39;49m\u001b[43m)\u001b[49m\u001b[38;5;241;43m.\u001b[39;49m\u001b[43misNull\u001b[49m\u001b[43m(\u001b[49m\u001b[43m)\u001b[49m\u001b[43m,\u001b[49m\u001b[43m \u001b[49m\n\u001b[1;32m      5\u001b[0m \u001b[43m        \u001b[49m\u001b[43mlit\u001b[49m\u001b[43m(\u001b[49m\u001b[43m[\u001b[49m\u001b[43m]\u001b[49m\u001b[43m)\u001b[49m\n\u001b[1;32m      6\u001b[0m \u001b[43m    \u001b[49m\u001b[43m)\u001b[49m\u001b[38;5;241;43m.\u001b[39;49m\u001b[43motherwise\u001b[49m\u001b[43m(\u001b[49m\u001b[43mcol\u001b[49m\u001b[43m(\u001b[49m\u001b[38;5;124;43m\"\u001b[39;49m\u001b[38;5;124;43mIs Laundering\u001b[39;49m\u001b[38;5;124;43m\"\u001b[39;49m\u001b[43m)\u001b[49m\u001b[43m)\u001b[49m\n\u001b[1;32m      7\u001b[0m \u001b[43m)\u001b[49m\n\u001b[1;32m      9\u001b[0m count_nulls(data\u001b[38;5;241m=\u001b[39mdf, column_name\u001b[38;5;241m=\u001b[39m\u001b[38;5;124m\"\u001b[39m\u001b[38;5;124mIs Laundering\u001b[39m\u001b[38;5;124m\"\u001b[39m)\n",
      "File \u001b[0;32m/opt/conda-spark-envs/pyspark-env/lib/python3.11/site-packages/pyspark/sql/dataframe.py:5176\u001b[0m, in \u001b[0;36mDataFrame.withColumn\u001b[0;34m(self, colName, col)\u001b[0m\n\u001b[1;32m   5171\u001b[0m \u001b[38;5;28;01mif\u001b[39;00m \u001b[38;5;129;01mnot\u001b[39;00m \u001b[38;5;28misinstance\u001b[39m(col, Column):\n\u001b[1;32m   5172\u001b[0m     \u001b[38;5;28;01mraise\u001b[39;00m PySparkTypeError(\n\u001b[1;32m   5173\u001b[0m         error_class\u001b[38;5;241m=\u001b[39m\u001b[38;5;124m\"\u001b[39m\u001b[38;5;124mNOT_COLUMN\u001b[39m\u001b[38;5;124m\"\u001b[39m,\n\u001b[1;32m   5174\u001b[0m         message_parameters\u001b[38;5;241m=\u001b[39m{\u001b[38;5;124m\"\u001b[39m\u001b[38;5;124marg_name\u001b[39m\u001b[38;5;124m\"\u001b[39m: \u001b[38;5;124m\"\u001b[39m\u001b[38;5;124mcol\u001b[39m\u001b[38;5;124m\"\u001b[39m, \u001b[38;5;124m\"\u001b[39m\u001b[38;5;124marg_type\u001b[39m\u001b[38;5;124m\"\u001b[39m: \u001b[38;5;28mtype\u001b[39m(col)\u001b[38;5;241m.\u001b[39m\u001b[38;5;18m__name__\u001b[39m},\n\u001b[1;32m   5175\u001b[0m     )\n\u001b[0;32m-> 5176\u001b[0m \u001b[38;5;28;01mreturn\u001b[39;00m DataFrame(\u001b[38;5;28;43mself\u001b[39;49m\u001b[38;5;241;43m.\u001b[39;49m\u001b[43m_jdf\u001b[49m\u001b[38;5;241;43m.\u001b[39;49m\u001b[43mwithColumn\u001b[49m\u001b[43m(\u001b[49m\u001b[43mcolName\u001b[49m\u001b[43m,\u001b[49m\u001b[43m \u001b[49m\u001b[43mcol\u001b[49m\u001b[38;5;241;43m.\u001b[39;49m\u001b[43m_jc\u001b[49m\u001b[43m)\u001b[49m, \u001b[38;5;28mself\u001b[39m\u001b[38;5;241m.\u001b[39msparkSession)\n",
      "File \u001b[0;32m/opt/conda-spark-envs/pyspark-env/lib/python3.11/site-packages/py4j/java_gateway.py:1322\u001b[0m, in \u001b[0;36mJavaMember.__call__\u001b[0;34m(self, *args)\u001b[0m\n\u001b[1;32m   1316\u001b[0m command \u001b[38;5;241m=\u001b[39m proto\u001b[38;5;241m.\u001b[39mCALL_COMMAND_NAME \u001b[38;5;241m+\u001b[39m\\\n\u001b[1;32m   1317\u001b[0m     \u001b[38;5;28mself\u001b[39m\u001b[38;5;241m.\u001b[39mcommand_header \u001b[38;5;241m+\u001b[39m\\\n\u001b[1;32m   1318\u001b[0m     args_command \u001b[38;5;241m+\u001b[39m\\\n\u001b[1;32m   1319\u001b[0m     proto\u001b[38;5;241m.\u001b[39mEND_COMMAND_PART\n\u001b[1;32m   1321\u001b[0m answer \u001b[38;5;241m=\u001b[39m \u001b[38;5;28mself\u001b[39m\u001b[38;5;241m.\u001b[39mgateway_client\u001b[38;5;241m.\u001b[39msend_command(command)\n\u001b[0;32m-> 1322\u001b[0m return_value \u001b[38;5;241m=\u001b[39m \u001b[43mget_return_value\u001b[49m\u001b[43m(\u001b[49m\n\u001b[1;32m   1323\u001b[0m \u001b[43m    \u001b[49m\u001b[43manswer\u001b[49m\u001b[43m,\u001b[49m\u001b[43m \u001b[49m\u001b[38;5;28;43mself\u001b[39;49m\u001b[38;5;241;43m.\u001b[39;49m\u001b[43mgateway_client\u001b[49m\u001b[43m,\u001b[49m\u001b[43m \u001b[49m\u001b[38;5;28;43mself\u001b[39;49m\u001b[38;5;241;43m.\u001b[39;49m\u001b[43mtarget_id\u001b[49m\u001b[43m,\u001b[49m\u001b[43m \u001b[49m\u001b[38;5;28;43mself\u001b[39;49m\u001b[38;5;241;43m.\u001b[39;49m\u001b[43mname\u001b[49m\u001b[43m)\u001b[49m\n\u001b[1;32m   1325\u001b[0m \u001b[38;5;28;01mfor\u001b[39;00m temp_arg \u001b[38;5;129;01min\u001b[39;00m temp_args:\n\u001b[1;32m   1326\u001b[0m     \u001b[38;5;28;01mif\u001b[39;00m \u001b[38;5;28mhasattr\u001b[39m(temp_arg, \u001b[38;5;124m\"\u001b[39m\u001b[38;5;124m_detach\u001b[39m\u001b[38;5;124m\"\u001b[39m):\n",
      "File \u001b[0;32m/opt/conda-spark-envs/pyspark-env/lib/python3.11/site-packages/pyspark/errors/exceptions/captured.py:185\u001b[0m, in \u001b[0;36mcapture_sql_exception.<locals>.deco\u001b[0;34m(*a, **kw)\u001b[0m\n\u001b[1;32m    181\u001b[0m converted \u001b[38;5;241m=\u001b[39m convert_exception(e\u001b[38;5;241m.\u001b[39mjava_exception)\n\u001b[1;32m    182\u001b[0m \u001b[38;5;28;01mif\u001b[39;00m \u001b[38;5;129;01mnot\u001b[39;00m \u001b[38;5;28misinstance\u001b[39m(converted, UnknownException):\n\u001b[1;32m    183\u001b[0m     \u001b[38;5;66;03m# Hide where the exception came from that shows a non-Pythonic\u001b[39;00m\n\u001b[1;32m    184\u001b[0m     \u001b[38;5;66;03m# JVM exception message.\u001b[39;00m\n\u001b[0;32m--> 185\u001b[0m     \u001b[38;5;28;01mraise\u001b[39;00m converted \u001b[38;5;28;01mfrom\u001b[39;00m \u001b[38;5;28;01mNone\u001b[39;00m\n\u001b[1;32m    186\u001b[0m \u001b[38;5;28;01melse\u001b[39;00m:\n\u001b[1;32m    187\u001b[0m     \u001b[38;5;28;01mraise\u001b[39;00m\n",
      "\u001b[0;31mAnalysisException\u001b[0m: [DATATYPE_MISMATCH.DATA_DIFF_TYPES] Cannot resolve \"CASE WHEN (Is Laundering IS NULL) THEN array() ELSE Is Laundering END\" due to data type mismatch: Input to `casewhen` should all be the same type, but it's [\"ARRAY<VOID>\", \"BOOLEAN\"].;\n'Project [Timestamp#2598, From Bank#1316, To Bank#1317, Amount Received#2086, Amount Paid#2875, Payment Currency#1320, Payment Format#1321, CASE WHEN isnull(Is Laundering#3187) THEN array() ELSE Is Laundering#3187 END AS Is Laundering#3301]\n+- Project [Timestamp#2598, From Bank#1316, To Bank#1317, Amount Received#2086, Amount Paid#2875, Payment Currency#1320, Payment Format#1321, Is Laundering#3187]\n   +- Project [Timestamp#2598, From Bank#1316, To Bank#1317, Amount Received#2086, Amount Paid#2875, Payment Currency#1320, Payment Format#1321, is_any_cert#3080, is_any_cert#3080 AS Is Laundering#3187]\n      +- Project [Timestamp#2598, From Bank#1316, To Bank#1317, Amount Received#2086, Amount Paid#2875, Payment Currency#1320, Payment Format#1321, coalesce(is_any_cert#2983, cast(false as boolean)) AS is_any_cert#3080]\n         +- Project [Timestamp#2598, From Bank#1316, To Bank#1317, Amount Received#2086, Amount Paid#2875, Payment Currency#1320, Payment Format#1321, is_any_cert#2983]\n            +- Project [Timestamp#2598, From Bank#1316, To Bank#1317, Amount Received#2086, Amount Paid#2875, Payment Currency#1320, Payment Format#1321, Is Laundering#1322, Is Laundering#1322 AS is_any_cert#2983]\n               +- Project [Timestamp#2598, From Bank#1316, To Bank#1317, Amount Received#2086, CASE WHEN (cast(Amount Paid#1319 as double) > 1000000.0) THEN 1000000.0 ELSE cast(Amount Paid#1319 as double) END AS Amount Paid#2875, Payment Currency#1320, Payment Format#1321, Is Laundering#1322]\n                  +- Project [coalesce(Timestamp#2537, cast(Unknown as timestamp)) AS Timestamp#2598, From Bank#1316, To Bank#1317, Amount Received#2086, Amount Paid#1319, Payment Currency#1320, Payment Format#1321, Is Laundering#1322]\n                     +- Project [coalesce(Timestamp#2457, cast(Unknown as timestamp)) AS Timestamp#2537, From Bank#1316, To Bank#1317, Amount Received#2086, Amount Paid#1319, Payment Currency#1320, Payment Format#1321, Is Laundering#1322]\n                        +- Project [to_timestamp(Timestamp#2448, Some(yyyy/MM/dd HH:mm), TimestampType, Some(Europe/Moscow), false) AS Timestamp#2457, From Bank#1316, To Bank#1317, Amount Received#2086, Amount Paid#1319, Payment Currency#1320, Payment Format#1321, Is Laundering#1322]\n                           +- Project [CASE WHEN ((Timestamp#2404 = cast( as timestamp)) OR (Timestamp#2404 = cast(NULL as timestamp))) THEN cast(null as timestamp) ELSE Timestamp#2404 END AS Timestamp#2448, From Bank#1316, To Bank#1317, Amount Received#2086, Amount Paid#1319, Payment Currency#1320, Payment Format#1321, Is Laundering#1322]\n                              +- Project [to_timestamp(Timestamp#2395, Some(yyyy/MM/dd HH:mm), TimestampType, Some(Europe/Moscow), false) AS Timestamp#2404, From Bank#1316, To Bank#1317, Amount Received#2086, Amount Paid#1319, Payment Currency#1320, Payment Format#1321, Is Laundering#1322]\n                                 +- Project [CASE WHEN ((Timestamp#2351 = cast( as timestamp)) OR (Timestamp#2351 = cast(NULL as timestamp))) THEN cast(null as timestamp) ELSE Timestamp#2351 END AS Timestamp#2395, From Bank#1316, To Bank#1317, Amount Received#2086, Amount Paid#1319, Payment Currency#1320, Payment Format#1321, Is Laundering#1322]\n                                    +- Project [to_timestamp(Timestamp#2342, Some(yyyy-MM-dd HH:mm:ss), TimestampType, Some(Europe/Moscow), false) AS Timestamp#2351, From Bank#1316, To Bank#1317, Amount Received#2086, Amount Paid#1319, Payment Currency#1320, Payment Format#1321, Is Laundering#1322]\n                                       +- Project [CASE WHEN ((Timestamp#2298 = cast( as timestamp)) OR (Timestamp#2298 = cast(NULL as timestamp))) THEN cast(null as timestamp) ELSE Timestamp#2298 END AS Timestamp#2342, From Bank#1316, To Bank#1317, Amount Received#2086, Amount Paid#1319, Payment Currency#1320, Payment Format#1321, Is Laundering#1322]\n                                          +- Project [to_timestamp(Timestamp#2289, Some(yyyy-MM-dd HH:mm:ss), TimestampType, Some(Europe/Moscow), false) AS Timestamp#2298, From Bank#1316, To Bank#1317, Amount Received#2086, Amount Paid#1319, Payment Currency#1320, Payment Format#1321, Is Laundering#1322]\n                                             +- Project [CASE WHEN ((Timestamp#2236 = cast( as timestamp)) OR (Timestamp#2236 = cast(NULL as timestamp))) THEN cast(null as timestamp) ELSE Timestamp#2236 END AS Timestamp#2289, From Bank#1316, To Bank#1317, Amount Received#2086, Amount Paid#1319, Payment Currency#1320, Payment Format#1321, Is Laundering#1322]\n                                                +- Project [coalesce(Timestamp#1315, cast(Unknown as timestamp)) AS Timestamp#2236, From Bank#1316, To Bank#1317, Amount Received#2086, Amount Paid#1319, Payment Currency#1320, Payment Format#1321, Is Laundering#1322]\n                                                   +- Project [Timestamp#1315, From Bank#1316, To Bank#1317, CASE WHEN (cast(Amount Received#1318 as double) > 1000000.0) THEN 1000000.0 ELSE cast(Amount Received#1318 as double) END AS Amount Received#2086, Amount Paid#1319, Payment Currency#1320, Payment Format#1321, Is Laundering#1322]\n                                                      +- SubqueryAlias spark_catalog.Khripunov_database.sobd_lab1_table2\n                                                         +- RelationV2[Timestamp#1315, From Bank#1316, To Bank#1317, Amount Received#1318, Amount Paid#1319, Payment Currency#1320, Payment Format#1321, Is Laundering#1322] spark_catalog.Khripunov_database.sobd_lab1_table2 spark_catalog.Khripunov_database.sobd_lab1_table2\n"
     ]
    }
   ],
   "source": [
    "df = df.withColumn(\n",
    "    \"Is Laundering\", \n",
    "    when(\n",
    "        col(\"Is Laundering\").isNull(), \n",
    "        lit([])\n",
    "    ).otherwise(col(\"Is Laundering\"))\n",
    ")\n",
    "\n",
    "count_nulls(data=df, column_name=\"Is Laundering\")"
   ]
  },
  {
   "cell_type": "markdown",
   "metadata": {},
   "source": [
    "Данный признак представляет собой **массив признаков**. Обработаем его следующим образом. Определим пятёрку самых часто встречающихся элементов списка для всех объектов из датасета и введем пять **бинарных** признаков, показывающих присутствие элемента в списке конкретного объекта."
   ]
  },
  {
   "cell_type": "code",
   "execution_count": 170,
   "metadata": {},
   "outputs": [],
   "source": [
    "def get_popular_options(data: DataFrame, \n",
    "                        column: str, \n",
    "                        top_n: int = 5) -> DataFrame:\n",
    "    \"\"\"\n",
    "    Получение DataFrame всех элементов массива опций, подсчет их количества, \n",
    "    сортировка по убыванию и вывод нескольких самых популярных элементов.\n",
    "\n",
    "    Args:\n",
    "        data (DataFrame): DataFrame, содержащий данные.\n",
    "        column (str): Имя столбца с массивом.\n",
    "        top_n (int): Количество самых популярных элементов для вывода.\n",
    "\n",
    "    Returns:\n",
    "        DataFrame: DataFrame с самыми популярными элементами.\n",
    "    \"\"\"\n",
    "    # Развертывание массива в отдельные строки\n",
    "    exploded_df = data.withColumn(\"element\", explode(col(column)))\n",
    "\n",
    "    # Подсчет количества каждого элемента\n",
    "    element_counts = (\n",
    "        exploded_df\n",
    "        .groupBy(\"element\")\n",
    "        .agg(count(\"element\").alias(\"count\"))\n",
    "    )\n",
    "\n",
    "    # Сортировка элементов по убыванию\n",
    "    sorted_elements = element_counts.orderBy(desc(\"count\"))\n",
    "\n",
    "    # Вывод нескольких самых популярных элементов\n",
    "    top_elements = sorted_elements.limit(top_n)\n",
    "\n",
    "    return top_elements"
   ]
  },
  {
   "cell_type": "markdown",
   "metadata": {},
   "source": [
    "Получим датафрейм из пяти самых популярных опций."
   ]
  },
  {
   "cell_type": "code",
   "execution_count": 171,
   "metadata": {},
   "outputs": [
    {
     "ename": "AnalysisException",
     "evalue": "[DATATYPE_MISMATCH.UNEXPECTED_INPUT_TYPE] Cannot resolve \"explode(Is Laundering)\" due to data type mismatch: Parameter 1 requires the (\"ARRAY\" or \"MAP\") type, however \"Is Laundering\" has the type \"BOOLEAN\".;\n'Project [Timestamp#2598, From Bank#1316, To Bank#1317, Amount Received#2086, Amount Paid#2875, Payment Currency#1320, Payment Format#1321, Is Laundering#3187, explode(Is Laundering#3187) AS element#3302]\n+- Project [Timestamp#2598, From Bank#1316, To Bank#1317, Amount Received#2086, Amount Paid#2875, Payment Currency#1320, Payment Format#1321, Is Laundering#3187]\n   +- Project [Timestamp#2598, From Bank#1316, To Bank#1317, Amount Received#2086, Amount Paid#2875, Payment Currency#1320, Payment Format#1321, is_any_cert#3080, is_any_cert#3080 AS Is Laundering#3187]\n      +- Project [Timestamp#2598, From Bank#1316, To Bank#1317, Amount Received#2086, Amount Paid#2875, Payment Currency#1320, Payment Format#1321, coalesce(is_any_cert#2983, cast(false as boolean)) AS is_any_cert#3080]\n         +- Project [Timestamp#2598, From Bank#1316, To Bank#1317, Amount Received#2086, Amount Paid#2875, Payment Currency#1320, Payment Format#1321, is_any_cert#2983]\n            +- Project [Timestamp#2598, From Bank#1316, To Bank#1317, Amount Received#2086, Amount Paid#2875, Payment Currency#1320, Payment Format#1321, Is Laundering#1322, Is Laundering#1322 AS is_any_cert#2983]\n               +- Project [Timestamp#2598, From Bank#1316, To Bank#1317, Amount Received#2086, CASE WHEN (cast(Amount Paid#1319 as double) > 1000000.0) THEN 1000000.0 ELSE cast(Amount Paid#1319 as double) END AS Amount Paid#2875, Payment Currency#1320, Payment Format#1321, Is Laundering#1322]\n                  +- Project [coalesce(Timestamp#2537, cast(Unknown as timestamp)) AS Timestamp#2598, From Bank#1316, To Bank#1317, Amount Received#2086, Amount Paid#1319, Payment Currency#1320, Payment Format#1321, Is Laundering#1322]\n                     +- Project [coalesce(Timestamp#2457, cast(Unknown as timestamp)) AS Timestamp#2537, From Bank#1316, To Bank#1317, Amount Received#2086, Amount Paid#1319, Payment Currency#1320, Payment Format#1321, Is Laundering#1322]\n                        +- Project [to_timestamp(Timestamp#2448, Some(yyyy/MM/dd HH:mm), TimestampType, Some(Europe/Moscow), false) AS Timestamp#2457, From Bank#1316, To Bank#1317, Amount Received#2086, Amount Paid#1319, Payment Currency#1320, Payment Format#1321, Is Laundering#1322]\n                           +- Project [CASE WHEN ((Timestamp#2404 = cast( as timestamp)) OR (Timestamp#2404 = cast(NULL as timestamp))) THEN cast(null as timestamp) ELSE Timestamp#2404 END AS Timestamp#2448, From Bank#1316, To Bank#1317, Amount Received#2086, Amount Paid#1319, Payment Currency#1320, Payment Format#1321, Is Laundering#1322]\n                              +- Project [to_timestamp(Timestamp#2395, Some(yyyy/MM/dd HH:mm), TimestampType, Some(Europe/Moscow), false) AS Timestamp#2404, From Bank#1316, To Bank#1317, Amount Received#2086, Amount Paid#1319, Payment Currency#1320, Payment Format#1321, Is Laundering#1322]\n                                 +- Project [CASE WHEN ((Timestamp#2351 = cast( as timestamp)) OR (Timestamp#2351 = cast(NULL as timestamp))) THEN cast(null as timestamp) ELSE Timestamp#2351 END AS Timestamp#2395, From Bank#1316, To Bank#1317, Amount Received#2086, Amount Paid#1319, Payment Currency#1320, Payment Format#1321, Is Laundering#1322]\n                                    +- Project [to_timestamp(Timestamp#2342, Some(yyyy-MM-dd HH:mm:ss), TimestampType, Some(Europe/Moscow), false) AS Timestamp#2351, From Bank#1316, To Bank#1317, Amount Received#2086, Amount Paid#1319, Payment Currency#1320, Payment Format#1321, Is Laundering#1322]\n                                       +- Project [CASE WHEN ((Timestamp#2298 = cast( as timestamp)) OR (Timestamp#2298 = cast(NULL as timestamp))) THEN cast(null as timestamp) ELSE Timestamp#2298 END AS Timestamp#2342, From Bank#1316, To Bank#1317, Amount Received#2086, Amount Paid#1319, Payment Currency#1320, Payment Format#1321, Is Laundering#1322]\n                                          +- Project [to_timestamp(Timestamp#2289, Some(yyyy-MM-dd HH:mm:ss), TimestampType, Some(Europe/Moscow), false) AS Timestamp#2298, From Bank#1316, To Bank#1317, Amount Received#2086, Amount Paid#1319, Payment Currency#1320, Payment Format#1321, Is Laundering#1322]\n                                             +- Project [CASE WHEN ((Timestamp#2236 = cast( as timestamp)) OR (Timestamp#2236 = cast(NULL as timestamp))) THEN cast(null as timestamp) ELSE Timestamp#2236 END AS Timestamp#2289, From Bank#1316, To Bank#1317, Amount Received#2086, Amount Paid#1319, Payment Currency#1320, Payment Format#1321, Is Laundering#1322]\n                                                +- Project [coalesce(Timestamp#1315, cast(Unknown as timestamp)) AS Timestamp#2236, From Bank#1316, To Bank#1317, Amount Received#2086, Amount Paid#1319, Payment Currency#1320, Payment Format#1321, Is Laundering#1322]\n                                                   +- Project [Timestamp#1315, From Bank#1316, To Bank#1317, CASE WHEN (cast(Amount Received#1318 as double) > 1000000.0) THEN 1000000.0 ELSE cast(Amount Received#1318 as double) END AS Amount Received#2086, Amount Paid#1319, Payment Currency#1320, Payment Format#1321, Is Laundering#1322]\n                                                      +- SubqueryAlias spark_catalog.Khripunov_database.sobd_lab1_table2\n                                                         +- RelationV2[Timestamp#1315, From Bank#1316, To Bank#1317, Amount Received#1318, Amount Paid#1319, Payment Currency#1320, Payment Format#1321, Is Laundering#1322] spark_catalog.Khripunov_database.sobd_lab1_table2 spark_catalog.Khripunov_database.sobd_lab1_table2\n",
     "output_type": "error",
     "traceback": [
      "\u001b[0;31m---------------------------------------------------------------------------\u001b[0m",
      "\u001b[0;31mAnalysisException\u001b[0m                         Traceback (most recent call last)",
      "Cell \u001b[0;32mIn[171], line 1\u001b[0m\n\u001b[0;32m----> 1\u001b[0m popular_options \u001b[38;5;241m=\u001b[39m \u001b[43mget_popular_options\u001b[49m\u001b[43m(\u001b[49m\u001b[43mdata\u001b[49m\u001b[38;5;241;43m=\u001b[39;49m\u001b[43mdf\u001b[49m\u001b[43m,\u001b[49m\u001b[43m \u001b[49m\u001b[43mcolumn\u001b[49m\u001b[38;5;241;43m=\u001b[39;49m\u001b[38;5;124;43m\"\u001b[39;49m\u001b[38;5;124;43mIs Laundering\u001b[39;49m\u001b[38;5;124;43m\"\u001b[39;49m\u001b[43m)\u001b[49m\n\u001b[1;32m      2\u001b[0m popular_options\u001b[38;5;241m.\u001b[39mshow()\n",
      "Cell \u001b[0;32mIn[170], line 17\u001b[0m, in \u001b[0;36mget_popular_options\u001b[0;34m(data, column, top_n)\u001b[0m\n\u001b[1;32m      4\u001b[0m \u001b[38;5;250m\u001b[39m\u001b[38;5;124;03m\"\"\"\u001b[39;00m\n\u001b[1;32m      5\u001b[0m \u001b[38;5;124;03mПолучение DataFrame всех элементов массива опций, подсчет их количества, \u001b[39;00m\n\u001b[1;32m      6\u001b[0m \u001b[38;5;124;03mсортировка по убыванию и вывод нескольких самых популярных элементов.\u001b[39;00m\n\u001b[0;32m   (...)\u001b[0m\n\u001b[1;32m     14\u001b[0m \u001b[38;5;124;03m    DataFrame: DataFrame с самыми популярными элементами.\u001b[39;00m\n\u001b[1;32m     15\u001b[0m \u001b[38;5;124;03m\"\"\"\u001b[39;00m\n\u001b[1;32m     16\u001b[0m \u001b[38;5;66;03m# Развертывание массива в отдельные строки\u001b[39;00m\n\u001b[0;32m---> 17\u001b[0m exploded_df \u001b[38;5;241m=\u001b[39m \u001b[43mdata\u001b[49m\u001b[38;5;241;43m.\u001b[39;49m\u001b[43mwithColumn\u001b[49m\u001b[43m(\u001b[49m\u001b[38;5;124;43m\"\u001b[39;49m\u001b[38;5;124;43melement\u001b[39;49m\u001b[38;5;124;43m\"\u001b[39;49m\u001b[43m,\u001b[49m\u001b[43m \u001b[49m\u001b[43mexplode\u001b[49m\u001b[43m(\u001b[49m\u001b[43mcol\u001b[49m\u001b[43m(\u001b[49m\u001b[43mcolumn\u001b[49m\u001b[43m)\u001b[49m\u001b[43m)\u001b[49m\u001b[43m)\u001b[49m\n\u001b[1;32m     19\u001b[0m \u001b[38;5;66;03m# Подсчет количества каждого элемента\u001b[39;00m\n\u001b[1;32m     20\u001b[0m element_counts \u001b[38;5;241m=\u001b[39m (\n\u001b[1;32m     21\u001b[0m     exploded_df\n\u001b[1;32m     22\u001b[0m     \u001b[38;5;241m.\u001b[39mgroupBy(\u001b[38;5;124m\"\u001b[39m\u001b[38;5;124melement\u001b[39m\u001b[38;5;124m\"\u001b[39m)\n\u001b[1;32m     23\u001b[0m     \u001b[38;5;241m.\u001b[39magg(count(\u001b[38;5;124m\"\u001b[39m\u001b[38;5;124melement\u001b[39m\u001b[38;5;124m\"\u001b[39m)\u001b[38;5;241m.\u001b[39malias(\u001b[38;5;124m\"\u001b[39m\u001b[38;5;124mcount\u001b[39m\u001b[38;5;124m\"\u001b[39m))\n\u001b[1;32m     24\u001b[0m )\n",
      "File \u001b[0;32m/opt/conda-spark-envs/pyspark-env/lib/python3.11/site-packages/pyspark/sql/dataframe.py:5176\u001b[0m, in \u001b[0;36mDataFrame.withColumn\u001b[0;34m(self, colName, col)\u001b[0m\n\u001b[1;32m   5171\u001b[0m \u001b[38;5;28;01mif\u001b[39;00m \u001b[38;5;129;01mnot\u001b[39;00m \u001b[38;5;28misinstance\u001b[39m(col, Column):\n\u001b[1;32m   5172\u001b[0m     \u001b[38;5;28;01mraise\u001b[39;00m PySparkTypeError(\n\u001b[1;32m   5173\u001b[0m         error_class\u001b[38;5;241m=\u001b[39m\u001b[38;5;124m\"\u001b[39m\u001b[38;5;124mNOT_COLUMN\u001b[39m\u001b[38;5;124m\"\u001b[39m,\n\u001b[1;32m   5174\u001b[0m         message_parameters\u001b[38;5;241m=\u001b[39m{\u001b[38;5;124m\"\u001b[39m\u001b[38;5;124marg_name\u001b[39m\u001b[38;5;124m\"\u001b[39m: \u001b[38;5;124m\"\u001b[39m\u001b[38;5;124mcol\u001b[39m\u001b[38;5;124m\"\u001b[39m, \u001b[38;5;124m\"\u001b[39m\u001b[38;5;124marg_type\u001b[39m\u001b[38;5;124m\"\u001b[39m: \u001b[38;5;28mtype\u001b[39m(col)\u001b[38;5;241m.\u001b[39m\u001b[38;5;18m__name__\u001b[39m},\n\u001b[1;32m   5175\u001b[0m     )\n\u001b[0;32m-> 5176\u001b[0m \u001b[38;5;28;01mreturn\u001b[39;00m DataFrame(\u001b[38;5;28;43mself\u001b[39;49m\u001b[38;5;241;43m.\u001b[39;49m\u001b[43m_jdf\u001b[49m\u001b[38;5;241;43m.\u001b[39;49m\u001b[43mwithColumn\u001b[49m\u001b[43m(\u001b[49m\u001b[43mcolName\u001b[49m\u001b[43m,\u001b[49m\u001b[43m \u001b[49m\u001b[43mcol\u001b[49m\u001b[38;5;241;43m.\u001b[39;49m\u001b[43m_jc\u001b[49m\u001b[43m)\u001b[49m, \u001b[38;5;28mself\u001b[39m\u001b[38;5;241m.\u001b[39msparkSession)\n",
      "File \u001b[0;32m/opt/conda-spark-envs/pyspark-env/lib/python3.11/site-packages/py4j/java_gateway.py:1322\u001b[0m, in \u001b[0;36mJavaMember.__call__\u001b[0;34m(self, *args)\u001b[0m\n\u001b[1;32m   1316\u001b[0m command \u001b[38;5;241m=\u001b[39m proto\u001b[38;5;241m.\u001b[39mCALL_COMMAND_NAME \u001b[38;5;241m+\u001b[39m\\\n\u001b[1;32m   1317\u001b[0m     \u001b[38;5;28mself\u001b[39m\u001b[38;5;241m.\u001b[39mcommand_header \u001b[38;5;241m+\u001b[39m\\\n\u001b[1;32m   1318\u001b[0m     args_command \u001b[38;5;241m+\u001b[39m\\\n\u001b[1;32m   1319\u001b[0m     proto\u001b[38;5;241m.\u001b[39mEND_COMMAND_PART\n\u001b[1;32m   1321\u001b[0m answer \u001b[38;5;241m=\u001b[39m \u001b[38;5;28mself\u001b[39m\u001b[38;5;241m.\u001b[39mgateway_client\u001b[38;5;241m.\u001b[39msend_command(command)\n\u001b[0;32m-> 1322\u001b[0m return_value \u001b[38;5;241m=\u001b[39m \u001b[43mget_return_value\u001b[49m\u001b[43m(\u001b[49m\n\u001b[1;32m   1323\u001b[0m \u001b[43m    \u001b[49m\u001b[43manswer\u001b[49m\u001b[43m,\u001b[49m\u001b[43m \u001b[49m\u001b[38;5;28;43mself\u001b[39;49m\u001b[38;5;241;43m.\u001b[39;49m\u001b[43mgateway_client\u001b[49m\u001b[43m,\u001b[49m\u001b[43m \u001b[49m\u001b[38;5;28;43mself\u001b[39;49m\u001b[38;5;241;43m.\u001b[39;49m\u001b[43mtarget_id\u001b[49m\u001b[43m,\u001b[49m\u001b[43m \u001b[49m\u001b[38;5;28;43mself\u001b[39;49m\u001b[38;5;241;43m.\u001b[39;49m\u001b[43mname\u001b[49m\u001b[43m)\u001b[49m\n\u001b[1;32m   1325\u001b[0m \u001b[38;5;28;01mfor\u001b[39;00m temp_arg \u001b[38;5;129;01min\u001b[39;00m temp_args:\n\u001b[1;32m   1326\u001b[0m     \u001b[38;5;28;01mif\u001b[39;00m \u001b[38;5;28mhasattr\u001b[39m(temp_arg, \u001b[38;5;124m\"\u001b[39m\u001b[38;5;124m_detach\u001b[39m\u001b[38;5;124m\"\u001b[39m):\n",
      "File \u001b[0;32m/opt/conda-spark-envs/pyspark-env/lib/python3.11/site-packages/pyspark/errors/exceptions/captured.py:185\u001b[0m, in \u001b[0;36mcapture_sql_exception.<locals>.deco\u001b[0;34m(*a, **kw)\u001b[0m\n\u001b[1;32m    181\u001b[0m converted \u001b[38;5;241m=\u001b[39m convert_exception(e\u001b[38;5;241m.\u001b[39mjava_exception)\n\u001b[1;32m    182\u001b[0m \u001b[38;5;28;01mif\u001b[39;00m \u001b[38;5;129;01mnot\u001b[39;00m \u001b[38;5;28misinstance\u001b[39m(converted, UnknownException):\n\u001b[1;32m    183\u001b[0m     \u001b[38;5;66;03m# Hide where the exception came from that shows a non-Pythonic\u001b[39;00m\n\u001b[1;32m    184\u001b[0m     \u001b[38;5;66;03m# JVM exception message.\u001b[39;00m\n\u001b[0;32m--> 185\u001b[0m     \u001b[38;5;28;01mraise\u001b[39;00m converted \u001b[38;5;28;01mfrom\u001b[39;00m \u001b[38;5;28;01mNone\u001b[39;00m\n\u001b[1;32m    186\u001b[0m \u001b[38;5;28;01melse\u001b[39;00m:\n\u001b[1;32m    187\u001b[0m     \u001b[38;5;28;01mraise\u001b[39;00m\n",
      "\u001b[0;31mAnalysisException\u001b[0m: [DATATYPE_MISMATCH.UNEXPECTED_INPUT_TYPE] Cannot resolve \"explode(Is Laundering)\" due to data type mismatch: Parameter 1 requires the (\"ARRAY\" or \"MAP\") type, however \"Is Laundering\" has the type \"BOOLEAN\".;\n'Project [Timestamp#2598, From Bank#1316, To Bank#1317, Amount Received#2086, Amount Paid#2875, Payment Currency#1320, Payment Format#1321, Is Laundering#3187, explode(Is Laundering#3187) AS element#3302]\n+- Project [Timestamp#2598, From Bank#1316, To Bank#1317, Amount Received#2086, Amount Paid#2875, Payment Currency#1320, Payment Format#1321, Is Laundering#3187]\n   +- Project [Timestamp#2598, From Bank#1316, To Bank#1317, Amount Received#2086, Amount Paid#2875, Payment Currency#1320, Payment Format#1321, is_any_cert#3080, is_any_cert#3080 AS Is Laundering#3187]\n      +- Project [Timestamp#2598, From Bank#1316, To Bank#1317, Amount Received#2086, Amount Paid#2875, Payment Currency#1320, Payment Format#1321, coalesce(is_any_cert#2983, cast(false as boolean)) AS is_any_cert#3080]\n         +- Project [Timestamp#2598, From Bank#1316, To Bank#1317, Amount Received#2086, Amount Paid#2875, Payment Currency#1320, Payment Format#1321, is_any_cert#2983]\n            +- Project [Timestamp#2598, From Bank#1316, To Bank#1317, Amount Received#2086, Amount Paid#2875, Payment Currency#1320, Payment Format#1321, Is Laundering#1322, Is Laundering#1322 AS is_any_cert#2983]\n               +- Project [Timestamp#2598, From Bank#1316, To Bank#1317, Amount Received#2086, CASE WHEN (cast(Amount Paid#1319 as double) > 1000000.0) THEN 1000000.0 ELSE cast(Amount Paid#1319 as double) END AS Amount Paid#2875, Payment Currency#1320, Payment Format#1321, Is Laundering#1322]\n                  +- Project [coalesce(Timestamp#2537, cast(Unknown as timestamp)) AS Timestamp#2598, From Bank#1316, To Bank#1317, Amount Received#2086, Amount Paid#1319, Payment Currency#1320, Payment Format#1321, Is Laundering#1322]\n                     +- Project [coalesce(Timestamp#2457, cast(Unknown as timestamp)) AS Timestamp#2537, From Bank#1316, To Bank#1317, Amount Received#2086, Amount Paid#1319, Payment Currency#1320, Payment Format#1321, Is Laundering#1322]\n                        +- Project [to_timestamp(Timestamp#2448, Some(yyyy/MM/dd HH:mm), TimestampType, Some(Europe/Moscow), false) AS Timestamp#2457, From Bank#1316, To Bank#1317, Amount Received#2086, Amount Paid#1319, Payment Currency#1320, Payment Format#1321, Is Laundering#1322]\n                           +- Project [CASE WHEN ((Timestamp#2404 = cast( as timestamp)) OR (Timestamp#2404 = cast(NULL as timestamp))) THEN cast(null as timestamp) ELSE Timestamp#2404 END AS Timestamp#2448, From Bank#1316, To Bank#1317, Amount Received#2086, Amount Paid#1319, Payment Currency#1320, Payment Format#1321, Is Laundering#1322]\n                              +- Project [to_timestamp(Timestamp#2395, Some(yyyy/MM/dd HH:mm), TimestampType, Some(Europe/Moscow), false) AS Timestamp#2404, From Bank#1316, To Bank#1317, Amount Received#2086, Amount Paid#1319, Payment Currency#1320, Payment Format#1321, Is Laundering#1322]\n                                 +- Project [CASE WHEN ((Timestamp#2351 = cast( as timestamp)) OR (Timestamp#2351 = cast(NULL as timestamp))) THEN cast(null as timestamp) ELSE Timestamp#2351 END AS Timestamp#2395, From Bank#1316, To Bank#1317, Amount Received#2086, Amount Paid#1319, Payment Currency#1320, Payment Format#1321, Is Laundering#1322]\n                                    +- Project [to_timestamp(Timestamp#2342, Some(yyyy-MM-dd HH:mm:ss), TimestampType, Some(Europe/Moscow), false) AS Timestamp#2351, From Bank#1316, To Bank#1317, Amount Received#2086, Amount Paid#1319, Payment Currency#1320, Payment Format#1321, Is Laundering#1322]\n                                       +- Project [CASE WHEN ((Timestamp#2298 = cast( as timestamp)) OR (Timestamp#2298 = cast(NULL as timestamp))) THEN cast(null as timestamp) ELSE Timestamp#2298 END AS Timestamp#2342, From Bank#1316, To Bank#1317, Amount Received#2086, Amount Paid#1319, Payment Currency#1320, Payment Format#1321, Is Laundering#1322]\n                                          +- Project [to_timestamp(Timestamp#2289, Some(yyyy-MM-dd HH:mm:ss), TimestampType, Some(Europe/Moscow), false) AS Timestamp#2298, From Bank#1316, To Bank#1317, Amount Received#2086, Amount Paid#1319, Payment Currency#1320, Payment Format#1321, Is Laundering#1322]\n                                             +- Project [CASE WHEN ((Timestamp#2236 = cast( as timestamp)) OR (Timestamp#2236 = cast(NULL as timestamp))) THEN cast(null as timestamp) ELSE Timestamp#2236 END AS Timestamp#2289, From Bank#1316, To Bank#1317, Amount Received#2086, Amount Paid#1319, Payment Currency#1320, Payment Format#1321, Is Laundering#1322]\n                                                +- Project [coalesce(Timestamp#1315, cast(Unknown as timestamp)) AS Timestamp#2236, From Bank#1316, To Bank#1317, Amount Received#2086, Amount Paid#1319, Payment Currency#1320, Payment Format#1321, Is Laundering#1322]\n                                                   +- Project [Timestamp#1315, From Bank#1316, To Bank#1317, CASE WHEN (cast(Amount Received#1318 as double) > 1000000.0) THEN 1000000.0 ELSE cast(Amount Received#1318 as double) END AS Amount Received#2086, Amount Paid#1319, Payment Currency#1320, Payment Format#1321, Is Laundering#1322]\n                                                      +- SubqueryAlias spark_catalog.Khripunov_database.sobd_lab1_table2\n                                                         +- RelationV2[Timestamp#1315, From Bank#1316, To Bank#1317, Amount Received#1318, Amount Paid#1319, Payment Currency#1320, Payment Format#1321, Is Laundering#1322] spark_catalog.Khripunov_database.sobd_lab1_table2 spark_catalog.Khripunov_database.sobd_lab1_table2\n"
     ]
    }
   ],
   "source": [
    "popular_options = get_popular_options(data=df, column=\"Is Laundering\")\n",
    "popular_options.show()"
   ]
  },
  {
   "cell_type": "code",
   "execution_count": null,
   "metadata": {},
   "outputs": [],
   "source": [
    "def add_options_columns(data: DataFrame,\n",
    "                        column: str,\n",
    "                        popular_options: DataFrame) -> DataFrame:\n",
    "    \"\"\"\n",
    "    Добавление новых булевых колонок в DataFrame, указывающих, \n",
    "    содержится ли определённый элемент в каждой строке.\n",
    "\n",
    "    Args:\n",
    "        data (DataFrame): DataFrame, содержащий данные.\n",
    "        column (str): Имя столбца с массивом.\n",
    "        popular_elements (DataFrame): DataFrame с популярными элементами.\n",
    "\n",
    "    Returns:\n",
    "        DataFrame: DataFrame с новыми булевыми колонками.\n",
    "    \"\"\"\n",
    "    # Добавление булевых колонок для каждой популярной категории\n",
    "    categories_df = popular_options.select(col(\"element\").alias(\"category\"))\n",
    "    result = data.crossJoin(categories_df.hint(\"broadcast\"))\n",
    "    result = result.withColumn(\"contains\", \n",
    "                               array_contains(col(column), col(\"category\")))\n",
    "    result = result.groupBy(data.columns).pivot(\"category\").agg(first(\"contains\"))\n",
    "    \n",
    "    for col_name in result.columns:\n",
    "        if col_name not in data.columns:\n",
    "            result = result.withColumnRenamed(col_name, f\"contains_{col_name}\")\n",
    "    \n",
    "    return result"
   ]
  },
  {
   "cell_type": "markdown",
   "metadata": {},
   "source": [
    "Выполним вышеописанное преобразование над датасетом, а признак-массив удалим."
   ]
  },
  {
   "cell_type": "code",
   "execution_count": null,
   "metadata": {},
   "outputs": [],
   "source": [
    "df = add_options_columns(data=df, column=\"major_options\", \n",
    "                         popular_options=popular_options)\n",
    "df = df.drop(\"major_options\").cache()\n",
    "df.show()"
   ]
  },
  {
   "cell_type": "markdown",
   "metadata": {},
   "source": [
    "#### Анализ столбца `maximum_seating`\n",
    "\n",
    "Данный признак является **количественным**."
   ]
  },
  {
   "cell_type": "code",
   "execution_count": null,
   "metadata": {},
   "outputs": [],
   "source": [
    "count_nulls(data=df, column_name=\"maximum_seating\")"
   ]
  },
  {
   "cell_type": "code",
   "execution_count": null,
   "metadata": {},
   "outputs": [],
   "source": [
    "(\n",
    "    df\n",
    "    .filter(col(\"maximum_seating\").isNotNull())\n",
    "    .groupBy(\"maximum_seating\")\n",
    "    .count()\n",
    "    .show()\n",
    ")"
   ]
  },
  {
   "cell_type": "markdown",
   "metadata": {},
   "source": [
    "Оставим только те автомобили, число мест в которых менее 20. Их преобладающее количество."
   ]
  },
  {
   "cell_type": "code",
   "execution_count": null,
   "metadata": {},
   "outputs": [],
   "source": [
    "df = df.filter(col(\"maximum_seating\") < 20)\n",
    "mean_maximum_seating = int(\n",
    "    df.select(mean(col(\"maximum_seating\"))).collect()[0][0]\n",
    ")\n",
    "mean_maximum_seating"
   ]
  },
  {
   "cell_type": "markdown",
   "metadata": {},
   "source": [
    "Заменим пропуски средним значением."
   ]
  },
  {
   "cell_type": "code",
   "execution_count": null,
   "metadata": {},
   "outputs": [],
   "source": [
    "df = df.fillna({\"maximum_seating\": mean_maximum_seating})"
   ]
  },
  {
   "cell_type": "code",
   "execution_count": null,
   "metadata": {},
   "outputs": [],
   "source": [
    "plot_cat_distribution(data=df, column_name=\"maximum_seating\")"
   ]
  },
  {
   "cell_type": "code",
   "execution_count": null,
   "metadata": {},
   "outputs": [],
   "source": [
    "df.show()"
   ]
  },
  {
   "cell_type": "markdown",
   "metadata": {},
   "source": [
    "#### Анализ признака `price`\n",
    "\n",
    "Признак **количественный**. Все преобразования аналогичны вышерассмотренным."
   ]
  },
  {
   "cell_type": "code",
   "execution_count": null,
   "metadata": {},
   "outputs": [],
   "source": [
    "count_nulls(data=df, column_name=\"price\")"
   ]
  },
  {
   "cell_type": "code",
   "execution_count": null,
   "metadata": {},
   "outputs": [],
   "source": [
    "plot_boxplots(data=df, columns=[\"price\"])"
   ]
  },
  {
   "cell_type": "code",
   "execution_count": null,
   "metadata": {},
   "outputs": [],
   "source": [
    "df.filter(col(\"price\") > 60000).count()"
   ]
  },
  {
   "cell_type": "code",
   "execution_count": null,
   "metadata": {},
   "outputs": [],
   "source": [
    "df = df.filter(col(\"price\") <= 60000)\n",
    "plot_quant_distribution(data=df, column=\"price\")"
   ]
  },
  {
   "cell_type": "code",
   "execution_count": null,
   "metadata": {},
   "outputs": [],
   "source": [
    "df.show()"
   ]
  },
  {
   "cell_type": "markdown",
   "metadata": {},
   "source": [
    "#### Анализ столбца `wheel_system`\n",
    "\n",
    "Признак **категориальный**."
   ]
  },
  {
   "cell_type": "code",
   "execution_count": null,
   "metadata": {},
   "outputs": [],
   "source": [
    "count_nulls(data=df, column_name=\"wheel_system\")"
   ]
  },
  {
   "cell_type": "code",
   "execution_count": null,
   "metadata": {},
   "outputs": [],
   "source": [
    "(\n",
    "    df\n",
    "    .filter(col(\"wheel_system\").isNotNull())\n",
    "    .groupBy(\"wheel_system\")\n",
    "    .count()\n",
    "    .show()\n",
    ")"
   ]
  },
  {
   "cell_type": "markdown",
   "metadata": {},
   "source": [
    "Заменим пропуски модой."
   ]
  },
  {
   "cell_type": "code",
   "execution_count": null,
   "metadata": {},
   "outputs": [],
   "source": [
    "wheel_system_mode = (\n",
    "    df\n",
    "    .filter(col(\"wheel_system\").isNotNull())\n",
    "    .groupBy(\"wheel_system\")\n",
    "    .count()\n",
    "    .orderBy(\"count\", ascending=False)\n",
    "    .first()[0]\n",
    ")\n",
    "wheel_system_mode"
   ]
  },
  {
   "cell_type": "code",
   "execution_count": null,
   "metadata": {},
   "outputs": [],
   "source": [
    "df = df.fillna({\"wheel_system\": wheel_system_mode})"
   ]
  },
  {
   "cell_type": "code",
   "execution_count": null,
   "metadata": {},
   "outputs": [],
   "source": [
    "plot_cat_distribution(data=df, column_name=\"wheel_system\")"
   ]
  },
  {
   "cell_type": "code",
   "execution_count": null,
   "metadata": {},
   "outputs": [],
   "source": [
    "df.show()"
   ]
  },
  {
   "cell_type": "markdown",
   "metadata": {},
   "source": [
    "#### Анализ столбца `mileage`\n",
    "\n",
    "Признак **количественный**."
   ]
  },
  {
   "cell_type": "code",
   "execution_count": null,
   "metadata": {},
   "outputs": [],
   "source": [
    "count_nulls(data=df, column_name=\"mileage\")"
   ]
  },
  {
   "cell_type": "code",
   "execution_count": null,
   "metadata": {},
   "outputs": [],
   "source": [
    "df = df.filter(col(\"mileage\").isNotNull())\n",
    "count_nulls(data=df, column_name=\"mileage\")"
   ]
  },
  {
   "cell_type": "code",
   "execution_count": null,
   "metadata": {},
   "outputs": [],
   "source": [
    "plot_boxplots(data=df, columns=[\"mileage\"])"
   ]
  },
  {
   "cell_type": "code",
   "execution_count": null,
   "metadata": {},
   "outputs": [],
   "source": [
    "plot_quant_distribution(data=df, column=\"mileage\")"
   ]
  },
  {
   "cell_type": "code",
   "execution_count": null,
   "metadata": {},
   "outputs": [],
   "source": [
    "df = df.filter(col(\"mileage\") <= 200000.0)\n",
    "plot_quant_distribution(data=df, column=\"mileage\")"
   ]
  },
  {
   "cell_type": "code",
   "execution_count": null,
   "metadata": {},
   "outputs": [],
   "source": [
    "df.show()"
   ]
  },
  {
   "cell_type": "markdown",
   "metadata": {},
   "source": [
    "#### Анализ признака `year`\n",
    "\n",
    "Признак **количественный**.\n",
    "\n",
    "Преобразуем год выпуска в количество лет с года выпуска до 2024 года."
   ]
  },
  {
   "cell_type": "code",
   "execution_count": null,
   "metadata": {},
   "outputs": [],
   "source": [
    "df = df.withColumn(\"age\", lit(2024) - col(\"year\")).drop(\"year\")\n",
    "df.show()"
   ]
  },
  {
   "cell_type": "markdown",
   "metadata": {},
   "source": [
    "#### Расчет корреляции между количественными признаками"
   ]
  },
  {
   "cell_type": "code",
   "execution_count": 172,
   "metadata": {},
   "outputs": [],
   "source": [
    "def compute_and_visualize_correlation_matrix(data: DataFrame, \n",
    "                                             columns: list[str]) -> None:\n",
    "    \"\"\"\n",
    "    Вычисляет и визуализирует корреляционную матрицу для указанных \n",
    "    колонок в DataFrame PySpark.\n",
    "\n",
    "    Args:\n",
    "        df (DataFrame): DataFrame PySpark.\n",
    "        columns (list[str]): Список колонок для вычисления корреляции.\n",
    "\n",
    "    Returns:\n",
    "        None\n",
    "    \"\"\"\n",
    "    # Вычисление корреляционной матрицы\n",
    "    corr_matrix = {}\n",
    "    for col1 in columns:\n",
    "        corr_matrix[col1] = {}\n",
    "        for col2 in columns:\n",
    "            corr_value = data.select(corr(col1, col2)).collect()[0][0]\n",
    "            corr_matrix[col1][col2] = corr_value\n",
    "\n",
    "    # Преобразование корреляционной матрицы в DataFrame Pandas для визуализации\n",
    "    corr_matrix_pd = pd.DataFrame(corr_matrix)\n",
    "\n",
    "    # Построение и визуализация корреляционной матрицы\n",
    "    plt.figure(figsize=(10, 8))\n",
    "    sns.heatmap(corr_matrix_pd, annot=True, cmap='coolwarm', linewidths=0.5)\n",
    "    plt.title('Correlation Matrix')\n",
    "    plt.show()"
   ]
  },
  {
   "cell_type": "code",
   "execution_count": null,
   "metadata": {},
   "outputs": [
    {
     "name": "stdout",
     "output_type": "stream",
     "text": [
      "['Timestamp', 'From Bank', 'To Bank', 'Amount Received', 'Amount Paid', 'Payment Currency', 'Payment Format', 'is_any_cert']\n"
     ]
    }
   ],
   "source": [
    "print(df.columns)\n"
   ]
  },
  {
   "cell_type": "code",
   "execution_count": 173,
   "metadata": {},
   "outputs": [
    {
     "name": "stderr",
     "output_type": "stream",
     "text": [
      "                                                                                \r"
     ]
    },
    {
     "data": {
      "image/png": "[encoded data removed]",
      "text/plain": [
       "<Figure size 1000x800 with 2 Axes>"
      ]
     },
     "metadata": {},
     "output_type": "display_data"
    }
   ],
   "source": [
    "compute_and_visualize_correlation_matrix(\n",
    "    data=df, columns=[\n",
    "        \"Amount Received\", \"Amount Paid\"\n",
    "    ]\n",
    ")"
   ]
  },
  {
   "cell_type": "markdown",
   "metadata": {},
   "source": [
    "Корреляционная матрица демонстрирует наличие корреляции между некоторыми количественными признаками."
   ]
  },
  {
   "cell_type": "code",
   "execution_count": 174,
   "metadata": {},
   "outputs": [
    {
     "name": "stdout",
     "output_type": "stream",
     "text": [
      "+---------+---------+-------+------------------+------------------+----------------+--------------+-------------+\n",
      "|Timestamp|From Bank|To Bank|   Amount Received|       Amount Paid|Payment Currency|Payment Format|Is Laundering|\n",
      "+---------+---------+-------+------------------+------------------+----------------+--------------+-------------+\n",
      "|     NULL|  0037220|0143318|       67597.03125|       67597.03125|            Yuan|   Credit Card|        false|\n",
      "|     NULL|  0037220|0143318|         1000000.0|         1000000.0|            Yuan|           ACH|        false|\n",
      "|     NULL|  0018184|0018184| 64.12000274658203| 64.12000274658203|            Yuan|  Reinvestment|        false|\n",
      "|     NULL|  0117909|0040526|         1000000.0|         1000000.0|            Yuan|        Cheque|        false|\n",
      "|     NULL|  0117909|0040526|     183521.265625|     183521.265625|            Yuan|   Credit Card|        false|\n",
      "|     NULL|  0117909|0040526|         1000000.0|         1000000.0|            Yuan|           ACH|        false|\n",
      "|     NULL|      012|0139273|1080.5899658203125|1080.5899658203125|            Yuan|        Cheque|        false|\n",
      "|     NULL|      012|0139273|            337.25|            337.25|            Yuan|          Cash|        false|\n",
      "|     NULL|      012|0139273| 665.5700073242188| 665.5700073242188|            Yuan|           ACH|        false|\n",
      "|     NULL|  0043815|0043815| 145.4499969482422| 145.4499969482422|            Yuan|  Reinvestment|        false|\n",
      "|     NULL|  0235304|0235304|  11396.0498046875|  11396.0498046875|            Yuan|  Reinvestment|        false|\n",
      "|     NULL|      021|    021| 36.09000015258789| 36.09000015258789|            Yuan|  Reinvestment|        false|\n",
      "|     NULL|  0138848|0138848|  14205.2998046875|  14205.2998046875|            Yuan|  Reinvestment|        false|\n",
      "|     NULL|  0119259|0139429|    109140.5078125|    109140.5078125|            Yuan|        Cheque|        false|\n",
      "|     NULL|  0119259|0139429|      43683.578125|      43683.578125|            Yuan|   Credit Card|        false|\n",
      "|     NULL|  0119259|0139429|       66562.28125|       66562.28125|            Yuan|          Cash|        false|\n",
      "|     NULL|  0119259|0139429|  7037.02001953125|  7037.02001953125|            Yuan|          Wire|        false|\n",
      "|     NULL|  0237303|0034338| 830.5900268554688| 830.5900268554688|            Yuan|        Cheque|        false|\n",
      "|     NULL|  0237303|0034338|   798.02001953125|   798.02001953125|            Yuan|   Credit Card|        false|\n",
      "|     NULL|  0237303|0034338| 357.6099853515625| 357.6099853515625|            Yuan|           ACH|        false|\n",
      "+---------+---------+-------+------------------+------------------+----------------+--------------+-------------+\n",
      "only showing top 20 rows\n",
      "\n"
     ]
    }
   ],
   "source": [
    "df.show()"
   ]
  },
  {
   "cell_type": "markdown",
   "metadata": {},
   "source": [
    "Посмотрим, сколько объектов осталось после преобразований датасета."
   ]
  },
  {
   "cell_type": "code",
   "execution_count": 175,
   "metadata": {},
   "outputs": [
    {
     "data": {
      "text/plain": [
       "31898238"
      ]
     },
     "execution_count": 175,
     "metadata": {},
     "output_type": "execute_result"
    }
   ],
   "source": [
    "df.count()"
   ]
  },
  {
   "cell_type": "code",
   "execution_count": 176,
   "metadata": {},
   "outputs": [
    {
     "name": "stdout",
     "output_type": "stream",
     "text": [
      "root\n",
      " |-- Timestamp: timestamp (nullable = true)\n",
      " |-- From Bank: string (nullable = true)\n",
      " |-- To Bank: string (nullable = true)\n",
      " |-- Amount Received: double (nullable = true)\n",
      " |-- Amount Paid: double (nullable = true)\n",
      " |-- Payment Currency: string (nullable = true)\n",
      " |-- Payment Format: string (nullable = true)\n",
      " |-- Is Laundering: boolean (nullable = false)\n",
      "\n"
     ]
    }
   ],
   "source": [
    "df.printSchema()"
   ]
  },
  {
   "cell_type": "markdown",
   "metadata": {},
   "source": [
    "Сохраняет очищенную и обработанную таблицу на диск."
   ]
  },
  {
   "cell_type": "code",
   "execution_count": null,
   "metadata": {},
   "outputs": [],
   "source": [
    "# Сохранение DataFrame в виде таблицы\n",
    "df.writeTo(\"sobd_lab1_processed_table\").using(\"iceberg\").create()"
   ]
  },
  {
   "cell_type": "code",
   "execution_count": null,
   "metadata": {},
   "outputs": [],
   "source": [
    "for table in spark.catalog.listTables():\n",
    "    print(table.name)"
   ]
  },
  {
   "cell_type": "markdown",
   "metadata": {},
   "source": [
    "Обратите внимание, что при необходимости созданные базу данных и таблицу можно удалить следующими командами."
   ]
  },
  {
   "cell_type": "code",
   "execution_count": null,
   "metadata": {},
   "outputs": [],
   "source": [
    "# spark.sql(\"DROP TABLE spark_catalog.ivanov_database.sobd_lab1_processed_table\")\n",
    "# spark.sql(\"DROP DATABASE spark_catalog.ivanov_database\")"
   ]
  },
  {
   "cell_type": "markdown",
   "metadata": {},
   "source": [
    "Останавливаем `Spark`-сессию."
   ]
  },
  {
   "cell_type": "code",
   "execution_count": null,
   "metadata": {},
   "outputs": [],
   "source": [
    "spark.stop()"
   ]
  }
 ],
 "metadata": {
  "kernelspec": {
   "display_name": "Python 3",
   "language": "python",
   "name": "python3"
  },
  "language_info": {
   "codemirror_mode": {
    "name": "ipython",
    "version": 3
   },
   "file_extension": ".py",
   "mimetype": "text/x-python",
   "name": "python",
   "nbconvert_exporter": "python",
   "pygments_lexer": "ipython3",
   "version": "3.11.9"
  }
 },
 "nbformat": 4,
 "nbformat_minor": 2
}
